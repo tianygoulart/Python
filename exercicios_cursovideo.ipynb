{
  "nbformat": 4,
  "nbformat_minor": 0,
  "metadata": {
    "colab": {
      "name": "exercicios cursovideo.ipynb",
      "provenance": [],
      "collapsed_sections": [],
      "authorship_tag": "ABX9TyMokPA9VJb1TJdxpdIfId2B",
      "include_colab_link": true
    },
    "kernelspec": {
      "name": "python3",
      "display_name": "Python 3"
    },
    "language_info": {
      "name": "python"
    }
  },
  "cells": [
    {
      "cell_type": "markdown",
      "metadata": {
        "id": "view-in-github",
        "colab_type": "text"
      },
      "source": [
        "<a href=\"https://colab.research.google.com/github/tianygoulart/Python/blob/main/exercicios_cursovideo.ipynb\" target=\"_parent\"><img src=\"https://colab.research.google.com/assets/colab-badge.svg\" alt=\"Open In Colab\"/></a>"
      ]
    },
    {
      "cell_type": "code",
      "execution_count": null,
      "metadata": {
        "colab": {
          "base_uri": "https://localhost:8080/"
        },
        "id": "UMWSSEtiFTeQ",
        "outputId": "3fba0135-baf1-4beb-b3f2-92ef1e795156"
      },
      "outputs": [
        {
          "output_type": "stream",
          "name": "stdout",
          "text": [
            "digite um numero:3\n",
            "digite outo numero4\n",
            "a soma de 3 e 4 é igual 7\n"
          ]
        }
      ],
      "source": [
        "a = int(input('digite um numero:'))\n",
        "b = int(input('digite outo numero'))\n",
        "c = a + b\n",
        "print('a soma de {} e {} é igual {}'.format(a,b,c))"
      ]
    },
    {
      "cell_type": "code",
      "source": [
        "a = input('digite algo: ')\n",
        "print('O tipo primitivo desse valor é : ', type(a))\n",
        "print('Só tem espaço?', a.isspace())\n",
        "print('É um numero?', a.isnumeric())\n",
        "print('É alfabetico:', a.isalpha())\n",
        "print('É alfanumerico?', a.isalnum())\n",
        "print('Está em maiscula?',a.isupper())\n",
        "print('Está em minusculo?', a.islower())\n"
      ],
      "metadata": {
        "colab": {
          "base_uri": "https://localhost:8080/"
        },
        "id": "qXukZHjFF_xY",
        "outputId": "6d6a06f3-4459-4251-f3f9-6e5962107c4a"
      },
      "execution_count": null,
      "outputs": [
        {
          "output_type": "stream",
          "name": "stdout",
          "text": [
            "digite algo: bola\n",
            "O tipo primitivo desse valor é :  <class 'str'>\n",
            "Só tem espaço? False\n",
            "É um numero? False\n",
            "É alfabetico: True\n",
            "É alfanumerico? True\n",
            "Está em maiscula? False\n",
            "Está em minusculo? True\n"
          ]
        }
      ]
    },
    {
      "cell_type": "code",
      "source": [
        "a = int(input('Digite um nomero!'))\n",
        "print('o sucessor de {} é {} e seu antecessor é {}'.format(a, a+1,a-1))\n"
      ],
      "metadata": {
        "colab": {
          "base_uri": "https://localhost:8080/"
        },
        "id": "D3_XOLoZzIrR",
        "outputId": "39bdf40d-fa22-4d2b-f15c-2befb2396774"
      },
      "execution_count": null,
      "outputs": [
        {
          "output_type": "stream",
          "name": "stdout",
          "text": [
            "Digite um nomero!5\n",
            "o sucessor de 5 é 6 e seu antecessor é 4\n"
          ]
        }
      ]
    },
    {
      "cell_type": "code",
      "source": [
        "a = float(input('Digite um numero!'))\n",
        "print('o dobro de {} é {} \\n e o seu triplo é {} \\n e sua raiz quadrada é {:.2f}'.format(a,a*2,a*3,a**0.5))"
      ],
      "metadata": {
        "colab": {
          "base_uri": "https://localhost:8080/"
        },
        "id": "G9BQDmUx65Tz",
        "outputId": "0de66437-44f9-4a2b-8ea2-6a493e60769e"
      },
      "execution_count": null,
      "outputs": [
        {
          "output_type": "stream",
          "name": "stdout",
          "text": [
            "Digite um numero!85\n",
            "o dobro de 85.0 é 170.0 \n",
            " e o seu triplo é 255.0 \n",
            " e sua raiz quadrada é 9.22\n"
          ]
        }
      ]
    },
    {
      "cell_type": "code",
      "source": [
        "n1 = int(input('digite primeira nota!'))\n",
        "n2 = int(input('Digite a segunda nota!'))\n",
        "print('a media da suas notas é {}'.format((n1+n2)/2))\n"
      ],
      "metadata": {
        "colab": {
          "base_uri": "https://localhost:8080/"
        },
        "id": "T7lbQsqz967v",
        "outputId": "65a622a0-e7de-468f-d86d-0f8fe8c3023f"
      },
      "execution_count": null,
      "outputs": [
        {
          "output_type": "stream",
          "name": "stdout",
          "text": [
            "digite primeira nota!5\n",
            "Digite a segunda nota!2\n",
            "a media da suas notas é 3.5\n"
          ]
        }
      ]
    },
    {
      "cell_type": "code",
      "source": [
        "a = float(input('Digite um valor em metros!'))\n",
        "print('o valor de {} metros é {} centimetros e {} milimetros!'.format(a,a*100,a*1000))"
      ],
      "metadata": {
        "colab": {
          "base_uri": "https://localhost:8080/"
        },
        "id": "boKcgKk5-ycz",
        "outputId": "609f3e39-89d3-43a9-98ab-b167b05f3b6a"
      },
      "execution_count": null,
      "outputs": [
        {
          "output_type": "stream",
          "name": "stdout",
          "text": [
            "Digite um valor em metros!200\n",
            "o valor de 200.0 metros é 20000.0 centimetros e 200000.0 milimetros!\n"
          ]
        }
      ]
    },
    {
      "cell_type": "code",
      "source": [
        "a = int(input('Digite um valor '))\n",
        "print('a tabuada de {} é: \\n ------------ \\n {} * 1 = {} \\n {} * 2 = {} \\n {} * 3 = {} \\n {} * 4 = {} \\n {} * 5 = {} \\n {} * 6 = {} \\n {} * 7 = {} \\n {} * 8 = {} \\n {} * 9 = {} \\n {} * 10 = {} \\n -----------'.format(a,a,a*1,a,a*2,a,a*3,a,a*4,a,a*5,a,a*6,a,a*7,a,a*8,a,a*9,a,a*10))"
      ],
      "metadata": {
        "colab": {
          "base_uri": "https://localhost:8080/"
        },
        "id": "W3QVr-55Brw4",
        "outputId": "6a7ae3da-6807-4357-c0f2-32278cd86c53"
      },
      "execution_count": null,
      "outputs": [
        {
          "output_type": "stream",
          "name": "stdout",
          "text": [
            "Digite um valor 6\n",
            "a tabuada de 6 é: \n",
            " ------------ \n",
            " 6 * 1 = 6 \n",
            " 6 * 2 = 12 \n",
            " 6 * 3 = 18 \n",
            " 6 * 4 = 24 \n",
            " 6 * 5 = 30 \n",
            " 6 * 6 = 36 \n",
            " 6 * 7 = 42 \n",
            " 6 * 8 = 48 \n",
            " 6 * 9 = 54 \n",
            " 6 * 10 = 60 \n",
            " -----------\n"
          ]
        }
      ]
    },
    {
      "cell_type": "code",
      "source": [
        "a=float(input('Quantos reais você tem na carteira?'))\n",
        "print('você pode comprar {:.2f} dollares'.format(a/5.67))"
      ],
      "metadata": {
        "colab": {
          "base_uri": "https://localhost:8080/"
        },
        "id": "dLKhPuGpDg63",
        "outputId": "2f60ba65-ec92-42c8-ac9d-02fc740f670e"
      },
      "execution_count": null,
      "outputs": [
        {
          "output_type": "stream",
          "name": "stdout",
          "text": [
            "Quantos reais você tem na carteira?20\n",
            "você pode comprar 3.53 dollares\n"
          ]
        }
      ]
    },
    {
      "cell_type": "code",
      "source": [
        "a=float(input('Digite altura da parede:'))\n",
        "b=float(input('Digite a largura da parede:'))\n",
        "print('A area da parede é {} e quantidade de tinta necessaria para pintar essa parede é de {} litros'.format(a*b,(a*b/2)))"
      ],
      "metadata": {
        "colab": {
          "base_uri": "https://localhost:8080/"
        },
        "id": "9pAydv_vEbTs",
        "outputId": "120b2053-139a-4197-895c-eca21156a93f"
      },
      "execution_count": null,
      "outputs": [
        {
          "output_type": "stream",
          "name": "stdout",
          "text": [
            "Digite altura da parede:3\n",
            "Digite a largura da parede:6\n",
            "A area da parede é 18.0 e quantidade de tinta necessaria para pintar essa parede é de 9.0 litros\n"
          ]
        }
      ]
    },
    {
      "cell_type": "code",
      "source": [
        "a=float(input('Digite o valor do preço do produto escolhido: R$'))\n",
        "print('Seu novo preço é R${:.2f}, pois você ganhou 5% de desconto!'.format(a*0.95))"
      ],
      "metadata": {
        "colab": {
          "base_uri": "https://localhost:8080/"
        },
        "id": "omu80KIHFvLZ",
        "outputId": "1c529cc0-0968-4a4c-c930-aca8889c3302"
      },
      "execution_count": null,
      "outputs": [
        {
          "output_type": "stream",
          "name": "stdout",
          "text": [
            "Digite o valor do preço do produto escolhido: R$520\n",
            "Seu novo preço é R$494.00, pois você ganhou 5% de desconto!\n"
          ]
        }
      ]
    },
    {
      "cell_type": "code",
      "source": [
        "a=float(input('qual valor do seu salario: R$'))\n",
        "print('Seu novo salario é R${:.2f}, pois você ganhou 30% de aumento'.format(a*1.15))"
      ],
      "metadata": {
        "colab": {
          "base_uri": "https://localhost:8080/"
        },
        "id": "T6nKMgoyGYJk",
        "outputId": "19d4eb44-3755-4989-9f58-17fe4cfcd946"
      },
      "execution_count": null,
      "outputs": [
        {
          "output_type": "stream",
          "name": "stdout",
          "text": [
            "qual valor do seu salario: R$3500\n",
            "Seu novo salario é R$4025.00, pois você ganhou 30% de aumento\n"
          ]
        }
      ]
    },
    {
      "cell_type": "code",
      "source": [
        "a=float(input('Qual a temperatura em ºC? '))\n",
        "f=(a*9/5)+32\n",
        "print('A temperatura de {}ºC corresponde a {} F'.format(a,f))\n"
      ],
      "metadata": {
        "colab": {
          "base_uri": "https://localhost:8080/"
        },
        "id": "nbOFwHfSV8Io",
        "outputId": "75455ee9-8bfb-4f52-8160-b6e2f9488334"
      },
      "execution_count": null,
      "outputs": [
        {
          "output_type": "stream",
          "name": "stdout",
          "text": [
            "Qual a temperatura em ºC? 31.5\n",
            "A temperatura de 31.5ºC corresponde a 88.7 F\n"
          ]
        }
      ]
    },
    {
      "cell_type": "code",
      "source": [
        "k=float(input('Qual a quantidade de Km: '))\n",
        "d=int(input('Qual quantidade de dias alugados: '))\n",
        "c=(60*d)+(0.15*k)\n",
        "print('Seu custo é R$ {:.2f}'.format(c))"
      ],
      "metadata": {
        "colab": {
          "base_uri": "https://localhost:8080/"
        },
        "id": "Vrh18l9LZTOh",
        "outputId": "06fed1fd-61b9-4075-f6c6-ae252b193e69"
      },
      "execution_count": null,
      "outputs": [
        {
          "output_type": "stream",
          "name": "stdout",
          "text": [
            "Qual a quantidade de Km: 350\n",
            "Qual quantidade de dias alugados: 3\n",
            "Seu custo é R$ 232.50\n"
          ]
        }
      ]
    },
    {
      "cell_type": "code",
      "source": [
        "import math\n"
      ],
      "metadata": {
        "id": "opayC8y1nS4b"
      },
      "execution_count": null,
      "outputs": []
    },
    {
      "cell_type": "code",
      "source": [
        "a=int(input('Digite um numero'))\n",
        "raiz=math.sqrt(a)\n",
        "print('A raiz do numero {} é igual a {}'.format(a,math.ceil(raiz)))"
      ],
      "metadata": {
        "colab": {
          "base_uri": "https://localhost:8080/"
        },
        "id": "hPFY_VMUpwwA",
        "outputId": "9d7e2fde-a86d-4d18-d2a3-98e1a6554253"
      },
      "execution_count": null,
      "outputs": [
        {
          "output_type": "stream",
          "name": "stdout",
          "text": [
            "Digite um numero50\n",
            "A raiz do numero 50 é igual a 8\n"
          ]
        }
      ]
    },
    {
      "cell_type": "code",
      "source": [
        "#exercicios 16\n",
        "a=float(input('Digite um numero: '))\n",
        "print('A parte inteira do nuemro {} é {}'.format(a,math.trunc(a)))"
      ],
      "metadata": {
        "colab": {
          "base_uri": "https://localhost:8080/"
        },
        "id": "ctGABqliqcZn",
        "outputId": "19b0bed2-376e-4b50-98c8-7a7e42f69f3f"
      },
      "execution_count": null,
      "outputs": [
        {
          "output_type": "stream",
          "name": "stdout",
          "text": [
            "Digite um numero: 25.63\n",
            "A parte inteira do nuemro 25.63 é 25\n"
          ]
        }
      ]
    },
    {
      "cell_type": "code",
      "source": [
        "# exercicio 17\n",
        "import math\n",
        "a=float(input('Digite o comprimento do primeiro cateto: '))\n",
        "b=float(input('Digite o comprimento do segundo cateto: '))\n",
        "c=math.hypot(a,b)\n",
        "print('O comprimento da hipotenusa é {:.2f}'.format(c))\n"
      ],
      "metadata": {
        "colab": {
          "base_uri": "https://localhost:8080/"
        },
        "id": "4UiEiaYMtY6h",
        "outputId": "3fe2c7b9-7b01-4ee1-80fe-b05ea9b50084"
      },
      "execution_count": null,
      "outputs": [
        {
          "output_type": "stream",
          "name": "stdout",
          "text": [
            "Digite o comprimento do primeiro cateto: 2.0\n",
            "Digite o comprimento do segundo cateto: 2.5\n",
            "O comprimento da hipotenusa é 3.20\n"
          ]
        }
      ]
    },
    {
      "cell_type": "code",
      "source": [
        "# exercicio 18\n",
        "import math\n",
        "a=int(input('Digite o angulo para calculo: '))\n",
        "b=a*2*math.pi/360.0\n",
        "print('O seno do angulo {} é {:.2f}'.format(a,math.sin(b)))\n",
        "print('O coseno do angulo {} é {:.2f}'.format(a,math.cos(b)))\n",
        "print('A tangente do angulo {} é {:.2f}'.format(a,math.tan(b)))"
      ],
      "metadata": {
        "colab": {
          "base_uri": "https://localhost:8080/"
        },
        "id": "MMATKmGwuxtK",
        "outputId": "ddb10ede-a63e-4b69-8580-be46889d4586"
      },
      "execution_count": null,
      "outputs": [
        {
          "output_type": "stream",
          "name": "stdout",
          "text": [
            "Digite o angulo para calculo: 60\n",
            "O seno do angulo 60 é 0.87\n",
            "O coseno do angulo 60 é 0.50\n",
            "A tangente do angulo 60 é 1.73\n"
          ]
        }
      ]
    },
    {
      "cell_type": "code",
      "source": [
        "# exercicio 19\n",
        "import random\n",
        "a=input('Digite primeiro nome do aluno: ')\n",
        "b=input('Digite o segundo nome do aluno: ')\n",
        "c=input('Digite o terceiro nome do aluno: ')\n",
        "d=input('Digite o quarto nome do aluno: ')\n",
        "e=[a,b,c,d]\n",
        "f=random.choice(e)\n",
        "print('Quam vai apagar o quadro é {}'.format(f))\n"
      ],
      "metadata": {
        "colab": {
          "base_uri": "https://localhost:8080/"
        },
        "id": "J9iCKgb_2eDk",
        "outputId": "2fb69a2c-a9e8-425c-e27c-c35b239d4a73"
      },
      "execution_count": null,
      "outputs": [
        {
          "output_type": "stream",
          "name": "stdout",
          "text": [
            "Digite primeiro nome do aluno: isabela\n",
            "Digite o segundo nome do aluno: isadora\n",
            "Digite o terceiro nome do aluno: maria\n",
            "Digite o quarto nome do aluno: goulart\n",
            "Quam vai apagar o quadro é maria\n"
          ]
        }
      ]
    },
    {
      "cell_type": "code",
      "source": [
        "# exercicio 20\n",
        "import random\n",
        "import numpy\n",
        "a=input('Digite primeiro nome do aluno: ')\n",
        "b=input('Digite o segundo nome do aluno: ')\n",
        "c=input('Digite o terceiro nome do aluno: ')\n",
        "d=input('Digite o quarto nome do aluno: ')\n",
        "e=[a,b,c,d]\n",
        "f=random.sample(e,4)\n",
        "print('A ordem dos alunos são {}'.format(f))"
      ],
      "metadata": {
        "colab": {
          "base_uri": "https://localhost:8080/"
        },
        "id": "SmIRe3SN8DzD",
        "outputId": "fa5063d6-8437-4170-c0c7-bcdc41fecd18"
      },
      "execution_count": null,
      "outputs": [
        {
          "output_type": "stream",
          "name": "stdout",
          "text": [
            "Digite primeiro nome do aluno: goulart\n",
            "Digite o segundo nome do aluno: maria\n",
            "Digite o terceiro nome do aluno: isabela\n",
            "Digite o quarto nome do aluno: isadora\n",
            "A ordem dos alunos são ['goulart', 'isabela', 'maria', 'isadora']\n"
          ]
        }
      ]
    },
    {
      "cell_type": "code",
      "source": [
        "frase='curso em pylton'\n",
        "'-'.join(frase)\n"
      ],
      "metadata": {
        "colab": {
          "base_uri": "https://localhost:8080/",
          "height": 35
        },
        "id": "yxHmDW18bmjy",
        "outputId": "00f01c6b-37ae-496c-b319-d23a36f468d7"
      },
      "execution_count": null,
      "outputs": [
        {
          "output_type": "execute_result",
          "data": {
            "application/vnd.google.colaboratory.intrinsic+json": {
              "type": "string"
            },
            "text/plain": [
              "'c-u-r-s-o- -e-m- -p-y-l-t-o-n'"
            ]
          },
          "metadata": {},
          "execution_count": 21
        }
      ]
    },
    {
      "cell_type": "code",
      "source": [
        "# exercicio 22\n",
        "nome=input('Digite seu nome completo: ')\n",
        "print('Seu nome em maisculo é {}'.format(nome.upper()))\n",
        "print('Seu nome minusculo é {}'.format(nome.lower()))\n",
        "nome2=nome.replace(' ','')\n",
        "a=nome2.count('')\n",
        "b=a-1\n",
        "print('Seu nome tem ao todo {} letras'.format(b))\n",
        "nome3=nome.split()\n",
        "c=nome3[0].count('')\n",
        "d=c-1\n",
        "e=nome3[0]\n",
        "f=e.title()\n",
        "print('Seu primeiro nome é {} e ele tem {} letras'.format(f,d))"
      ],
      "metadata": {
        "colab": {
          "base_uri": "https://localhost:8080/"
        },
        "id": "IIaJ3ajA57e4",
        "outputId": "9b0a2941-041f-4db1-ad5e-24d6d97b182e"
      },
      "execution_count": null,
      "outputs": [
        {
          "output_type": "stream",
          "name": "stdout",
          "text": [
            "Digite seu nome completo: nylson marcos delfin\n",
            "Seu nome em maisculo é NYLSON MARCOS DELFIN\n",
            "Seu nome minusculo é nylson marcos delfin\n",
            "Seu nome tem ao todo 18 letras\n",
            "Seu primeiro nome é Nylson e ele tem 6 letras\n"
          ]
        }
      ]
    },
    {
      "cell_type": "code",
      "source": [
        "# exercicio 23\n",
        "num=int(input('Digite um numero de 0 a 9999: '))\n",
        "u=num//1 % 10\n",
        "d=num//10 % 10\n",
        "c=num//100 % 10\n",
        "m=num//1000 % 10\n",
        "print('Unidade: {}'.format(u))\n",
        "print('Dezena: {}'.format(d))\n",
        "print('Centena: {}'.format(c))\n",
        "print('Milhar:{}'.format(m))"
      ],
      "metadata": {
        "colab": {
          "base_uri": "https://localhost:8080/"
        },
        "id": "rW_KeEwVA6A8",
        "outputId": "3fb569bc-3c45-48dc-aeec-209a03b20c86"
      },
      "execution_count": null,
      "outputs": [
        {
          "output_type": "stream",
          "name": "stdout",
          "text": [
            "Digite um numero de 0 a 9999: 23\n",
            "Unidade: 3\n",
            "Dezena: 2\n",
            "Centena: 0\n",
            "Milhar:0\n"
          ]
        }
      ]
    },
    {
      "cell_type": "code",
      "source": [
        "# exercicio 24\n",
        "a=input('Qual a sua cidade: ')\n",
        "b=a.split()\n",
        "print('Sua cidade começa com SANTO? R: ','santo'in b[0])"
      ],
      "metadata": {
        "colab": {
          "base_uri": "https://localhost:8080/"
        },
        "id": "YN-nk-pxClL3",
        "outputId": "8c90d553-9bb4-4c8d-c4d4-c627062f5fe9"
      },
      "execution_count": null,
      "outputs": [
        {
          "output_type": "stream",
          "name": "stdout",
          "text": [
            "Qual a sua cidade:   santo andre\n",
            "Sua cidade começa com SANTO? R:  True\n"
          ]
        }
      ]
    },
    {
      "cell_type": "code",
      "source": [
        "# exercicio 25\n",
        "nome=input('Qual seu nome: ')\n",
        "print('seu nome tem SILVA? R: ', 'silva'in nome.lower())"
      ],
      "metadata": {
        "colab": {
          "base_uri": "https://localhost:8080/"
        },
        "id": "h8FW5WU2EUNB",
        "outputId": "67b4782c-9ede-4adc-8282-c8d3ef1208c2"
      },
      "execution_count": null,
      "outputs": [
        {
          "output_type": "stream",
          "name": "stdout",
          "text": [
            "Qual seu nome: maria da Silva\n",
            "seu nome tem SILVA? R:  True\n"
          ]
        }
      ]
    },
    {
      "cell_type": "code",
      "source": [
        "# exercicio 26\n",
        "frase=input('Digite uma frase qualquer: ').upper().strip()\n",
        "print('Essa frase tem {} a'.format(frase.count('A')))\n",
        "print('A posição do primeiro a é {}'.format(frase.find('A')+1))\n",
        "frase2=frase[::-1]\n",
        "b=frase2.find('A')\n",
        "c=len(frase)\n",
        "d=c-b-1\n",
        "print('A posição do ultimo a é {}'.format(d))\n"
      ],
      "metadata": {
        "colab": {
          "base_uri": "https://localhost:8080/"
        },
        "id": "VdUYTPiqV5DR",
        "outputId": "01c827f8-9fde-4914-bb84-3bbf493c54c6"
      },
      "execution_count": null,
      "outputs": [
        {
          "output_type": "stream",
          "name": "stdout",
          "text": [
            "Digite uma frase qualquer:   amanda e linda\n",
            "Essa frase tem 4 a\n",
            "A posição do primeiro a é 1\n",
            "A posição do ultimo a é 13\n"
          ]
        }
      ]
    },
    {
      "cell_type": "code",
      "source": [
        "# exercicio 27\n",
        "nome=input('Qual seu nome completo: ')\n",
        "a=nome.split()\n",
        "b=nome.count('a')\n",
        "print('Primeiro: {}'.format(a[0]))\n",
        "c=a[::-1]\n",
        "print('Ultimo: {}'.format(c[0]))"
      ],
      "metadata": {
        "colab": {
          "base_uri": "https://localhost:8080/"
        },
        "id": "DrzkiBXkf9e9",
        "outputId": "f02321a4-cd20-48ea-f6dc-a102e22ac00a"
      },
      "execution_count": null,
      "outputs": [
        {
          "output_type": "stream",
          "name": "stdout",
          "text": [
            "Qual seu nome completo:   amanda belini da silva pereira\n",
            "Primeiro: amanda\n",
            "Ultimo: pereira\n"
          ]
        }
      ]
    },
    {
      "cell_type": "code",
      "source": [
        "# exercicio 28\n",
        "import random\n",
        "a=[1,2,3,4,5]\n",
        "b=random.choice(a)\n",
        "print('O Computador pensou em numero de 1 a 5')\n",
        "c=int(input('Qual numero ele pensou?'))\n",
        "if b==c:\n",
        "  print('Muito bem ! Você acertou!')\n",
        "else:\n",
        "  print('você errou! Tente novamente!')"
      ],
      "metadata": {
        "colab": {
          "base_uri": "https://localhost:8080/"
        },
        "id": "0Z9Ms-UfHR-g",
        "outputId": "df8d8d30-4d16-408b-e39e-359d7ff10dce"
      },
      "execution_count": null,
      "outputs": [
        {
          "output_type": "stream",
          "name": "stdout",
          "text": [
            "O Computador pensou em numero de 1 a 5\n",
            "Qual numero ele pensou?1\n",
            "Muito bem ! Você acertou!\n"
          ]
        }
      ]
    },
    {
      "cell_type": "code",
      "source": [
        "# exercicio 29\n",
        "a=int(input('Qual é a velocidade do veiculo?'))\n",
        "if a>80:\n",
        "  b=a-80\n",
        "  c=b*7\n",
        "  print('Sinto muito! Você foi multado no valor de R${:.2f}.'.format(c))\n",
        "else:\n",
        "  print('Muito bem! Velocidade permitida!')\n"
      ],
      "metadata": {
        "colab": {
          "base_uri": "https://localhost:8080/"
        },
        "id": "5rpYCZWaP6Mw",
        "outputId": "3be12e92-9a54-4509-d8a4-f871c6f412ed"
      },
      "execution_count": null,
      "outputs": [
        {
          "output_type": "stream",
          "name": "stdout",
          "text": [
            "Qual o KM/h do veiculo?96\n",
            "Sinto muito! Você foi multado no valor de R$112.00.\n"
          ]
        }
      ]
    },
    {
      "cell_type": "code",
      "source": [
        "# exercicio 30\n",
        "a=int(input('Digite um numero inteiro: '))\n",
        "if a%2==0:\n",
        "  print('Esse numero é par!')\n",
        "else:\n",
        "  print('Esse numero é impar!')"
      ],
      "metadata": {
        "colab": {
          "base_uri": "https://localhost:8080/"
        },
        "id": "2x2Qvr1lSedR",
        "outputId": "c97edd58-1927-409b-dbd1-9723749a9e9c"
      },
      "execution_count": null,
      "outputs": [
        {
          "output_type": "stream",
          "name": "stdout",
          "text": [
            "Digite um numero inteiro: 74\n",
            "Esse numero é par!\n"
          ]
        }
      ]
    },
    {
      "cell_type": "code",
      "source": [
        "# exercicio 31\n",
        "d=float(input('Digite a distancia em km da sua viagem: '))\n",
        "if d<=200:\n",
        "  p1=0.50*d\n",
        "  print('O preço da sua viagem é R$ {}.'.format(p1))\n",
        "else:\n",
        "  p2=0.45*d\n",
        "  print('O preço da sua viagem é R$ {}.'.format(p2))\n"
      ],
      "metadata": {
        "colab": {
          "base_uri": "https://localhost:8080/"
        },
        "id": "x_DJrU0vTcj8",
        "outputId": "b003bf17-7329-4944-b75f-94724cacfe72"
      },
      "execution_count": null,
      "outputs": [
        {
          "output_type": "stream",
          "name": "stdout",
          "text": [
            "Digite a distancia em km da sua viagem: 100\n",
            "O preço da sua viagem é R$ 50.0.\n"
          ]
        }
      ]
    },
    {
      "cell_type": "code",
      "source": [
        "# exercicio 32\n",
        "from datetime import date\n",
        "a=int(input('Digite um ano: '))\n",
        "if a==0:\n",
        "  a=date.today().year\n",
        "if a%4==0 and a%100!=0 or a%400==0:\n",
        "  print('Esse ano é Bissexto')\n",
        "else:\n",
        "  print('Esse ano não é Bissexto')"
      ],
      "metadata": {
        "colab": {
          "base_uri": "https://localhost:8080/"
        },
        "id": "8UW1YGf-p1-a",
        "outputId": "7a7e752a-5d62-4f77-c5e2-b21b0ad95320"
      },
      "execution_count": null,
      "outputs": [
        {
          "output_type": "stream",
          "name": "stdout",
          "text": [
            "Digite um ano: 0\n",
            "Esse ano não é Bissexto\n"
          ]
        }
      ]
    },
    {
      "cell_type": "code",
      "source": [
        "# exercicio 33\n",
        "n1=int(input('Digite o primeiro numero:'))\n",
        "n2=int(input('Digite o segundo numero: '))\n",
        "n3=int(input('Digite o terceiro numero: '))\n",
        "if n1>n2 and n1>n3 and n2!=n3:\n",
        "  print('O maior numero é {}'.format(n1))\n",
        "if n2>n1 and n2>n3 and n3!=n1:\n",
        "  print('O maior numero é {}'.format(n2))\n",
        "if n3>n1 and n3>n2 and n1!=n2:\n",
        "  print('O maior numero é {}'.format(n3))\n",
        "if n1<n2 and n1<n3 and n2!=n3:\n",
        "  print('O menor numero é {}'.format(n1))\n",
        "if n2<n1 and n2<n3 and n3!=n1:\n",
        "  print('O menor numero é {}'.format(n2))\n",
        "if n3<n1 and n3<n2 and n1!=n2:\n",
        "  print('O menor numero é {}'.format(n3))\n",
        "if n1==n2 and n1<n3:\n",
        "  print('O menor numero é {}'.format(n1))\n",
        "  print('o maior numero é {}'.format(n3))\n",
        "if n1==n2 and n1>n3:\n",
        "  print('O menor numero é {}'.format(n3))\n",
        "  print('O maior numero é {}'.format(n1))\n",
        "if n3==n2 and n1<n3:\n",
        "  print('O menor numero é {}'.format(n1))\n",
        "  print('o maior numero é {}'.format(n3))\n",
        "if n3==n2 and n1>n3:\n",
        "  print('O menor numero é {}'.format(n3))\n",
        "  print('O maior numero é {}'.format(n1))\n",
        "if n1==n3 and n2<n3:\n",
        "  print('O menor numero é {}'.format(n2))\n",
        "  print('o maior numero é {}'.format(n3))\n",
        "if n1==n3 and n2>n3:\n",
        "  print('O menor numero é {}'.format(n3))\n",
        "  print('O maior numero é {}'.format(n2))\n",
        "if n1==n2==n3:\n",
        "  print('Os numeros são iguais!')\n",
        "  \n",
        "  "
      ],
      "metadata": {
        "colab": {
          "base_uri": "https://localhost:8080/"
        },
        "id": "D60cGJKqrO4O",
        "outputId": "a8f4761f-dbd0-4982-8dd2-36a6aa4ce839"
      },
      "execution_count": null,
      "outputs": [
        {
          "output_type": "stream",
          "name": "stdout",
          "text": [
            "Digite o primeiro numero:7\n",
            "Digite o segundo numero: 9\n",
            "Digite o terceiro numero: 10\n",
            "O maior numero é 10\n",
            "O menor numero é 7\n"
          ]
        }
      ]
    },
    {
      "cell_type": "code",
      "source": [
        "# exercicio 34\n",
        "sa=float(input('Qual é seu salario: R$ '))\n",
        "if sa>=1250:\n",
        "  nsa=sa*1.1\n",
        "  print('Seu novo salario é R$ {:.2f}'.format(nsa))\n",
        "else:\n",
        "  nsa=sa*1.15\n",
        "  print('Seu novo salario é R$ {:.2f}'.format(nsa))"
      ],
      "metadata": {
        "colab": {
          "base_uri": "https://localhost:8080/"
        },
        "id": "sog_kud-8SAg",
        "outputId": "dd5c6ac9-86fc-4c96-9746-4e0695ca603b"
      },
      "execution_count": null,
      "outputs": [
        {
          "output_type": "stream",
          "name": "stdout",
          "text": [
            "Qual é seu salario: R$ 1000\n",
            "Seu novo salario é R$ 1150.00\n"
          ]
        }
      ]
    },
    {
      "cell_type": "code",
      "source": [
        "# exercicio 35\n",
        "c1=int(input('Digite primeiro comprimento da reta: '))\n",
        "c2=int(input('Digite o segundo comprimento da reta: '))\n",
        "c3= int(input('Diogite o terceiro comprimento da reta: '))\n",
        "if (c1+c2)>=c3:\n",
        "  print('Essas medidas podem formar um triangulo')\n",
        "else:\n",
        "  print('Essas medidas NÃO podem formar um triangulo')"
      ],
      "metadata": {
        "colab": {
          "base_uri": "https://localhost:8080/"
        },
        "id": "hXfZ7Lp1-caw",
        "outputId": "e83fc35d-49aa-4af4-952d-55b5cc054f58"
      },
      "execution_count": null,
      "outputs": [
        {
          "output_type": "stream",
          "name": "stdout",
          "text": [
            "Digite primeiro comprimento da reta: 10\n",
            "Digite o segundo comprimento da reta: 5\n",
            "Diogite o terceiro comprimento da reta: 20\n",
            "Essas medidas não podem formar um triangulo\n"
          ]
        }
      ]
    },
    {
      "cell_type": "code",
      "source": [
        "print('\\33[1;31;43m Olá, Mundo!')"
      ],
      "metadata": {
        "colab": {
          "base_uri": "https://localhost:8080/"
        },
        "id": "lZ8B1iRw-IeV",
        "outputId": "c569b166-e812-431a-c7d2-438f24267e32"
      },
      "execution_count": null,
      "outputs": [
        {
          "output_type": "stream",
          "name": "stdout",
          "text": [
            "\u001b[1;31;43m Olá, Mundo!\n"
          ]
        }
      ]
    },
    {
      "cell_type": "code",
      "source": [
        "a=3\n",
        "b=5\n",
        "print('Os valores são \\033[32m{}\\033[m e \\033[31m{}\\033[m!!'.format(a,b))"
      ],
      "metadata": {
        "colab": {
          "base_uri": "https://localhost:8080/"
        },
        "id": "Vibjkxy-ANSr",
        "outputId": "fc2e1aca-9ee8-42fa-a223-28d9de90f984"
      },
      "execution_count": null,
      "outputs": [
        {
          "output_type": "stream",
          "name": "stdout",
          "text": [
            "Os valores são \u001b[32m3\u001b[m e \u001b[31m5\u001b[m!!\n"
          ]
        }
      ]
    },
    {
      "cell_type": "code",
      "source": [
        "19//2"
      ],
      "metadata": {
        "colab": {
          "base_uri": "https://localhost:8080/"
        },
        "id": "dje_aKkpCtlE",
        "outputId": "310f6956-0507-4b7f-cab7-2fcecb290dc6"
      },
      "execution_count": null,
      "outputs": [
        {
          "output_type": "execute_result",
          "data": {
            "text/plain": [
              "9"
            ]
          },
          "metadata": {},
          "execution_count": 7
        }
      ]
    },
    {
      "cell_type": "code",
      "source": [
        "19%2\n"
      ],
      "metadata": {
        "colab": {
          "base_uri": "https://localhost:8080/"
        },
        "id": "W0rXWPzpC108",
        "outputId": "ccec0ce0-ffb7-4500-c79f-726e3dcbde12"
      },
      "execution_count": null,
      "outputs": [
        {
          "output_type": "execute_result",
          "data": {
            "text/plain": [
              "1"
            ]
          },
          "metadata": {},
          "execution_count": 8
        }
      ]
    },
    {
      "cell_type": "code",
      "source": [
        "x = 'curso de python no cursoemvideo'\n",
        "x[:5]"
      ],
      "metadata": {
        "colab": {
          "base_uri": "https://localhost:8080/",
          "height": 35
        },
        "id": "Y21L-XmODpSg",
        "outputId": "e779c817-6d08-4a43-dc73-06f1a411ba65"
      },
      "execution_count": null,
      "outputs": [
        {
          "output_type": "execute_result",
          "data": {
            "application/vnd.google.colaboratory.intrinsic+json": {
              "type": "string"
            },
            "text/plain": [
              "'curso'"
            ]
          },
          "metadata": {},
          "execution_count": 9
        }
      ]
    },
    {
      "cell_type": "code",
      "source": [
        "# exercicio 36\n",
        "valor=float(input('Qual o valor da casa: R$ '))\n",
        "sal=float(input('Qual seu salario: R$ '))\n",
        "anos=int(input('Quantos anos de emprestismo: '))\n",
        "p=valor/(anos*12)\n",
        "m=sal*0.3\n",
        "if p<=m:\n",
        "  print('Valor da sua prestação é R$ {:.2f}'.format(p))\n",
        "else:\n",
        "  print('Emprestimo Negado! verificar outro valor.')\n",
        " "
      ],
      "metadata": {
        "colab": {
          "base_uri": "https://localhost:8080/"
        },
        "id": "9ba4c3YrSqsu",
        "outputId": "6f817ed2-fe32-478c-a62a-23b5d3a2fe9e"
      },
      "execution_count": null,
      "outputs": [
        {
          "output_type": "stream",
          "name": "stdout",
          "text": [
            "Qual o valor da casa: R$ 1000000\n",
            "Qual seu salario: R$ 13000\n",
            "Quantos anos de emprestismo: 30\n",
            "Valor da sua prestação é R$ 2777.78\n"
          ]
        }
      ]
    },
    {
      "cell_type": "code",
      "source": [
        "# exercicio 37\n",
        "num=int(input('Digite um numero inteiro: '))\n",
        "base=int(input('Digite a opção para conversão: \\n 1 - Binario \\n 2 - octal \\n 3 - hexadecimal \\n'))\n",
        "if base==1:\n",
        "  num2=bin(num)\n",
        "  print('Valor em binario é {} '.format(num2))\n",
        "elif base==2:\n",
        "  num2=oct(num)\n",
        "  print('Valor em octal é {} '.format(num2))\n",
        "elif base==3:\n",
        "  num2=hex(num)\n",
        "  print('O valor em hexadecimal é {} '.format(num2))\n",
        "else:\n",
        "  print('valor digitado incorreto')\n",
        "\n"
      ],
      "metadata": {
        "colab": {
          "base_uri": "https://localhost:8080/"
        },
        "id": "KZXeUHTlXN3f",
        "outputId": "28c35eab-852c-4745-e572-26d674ad2afe"
      },
      "execution_count": null,
      "outputs": [
        {
          "output_type": "stream",
          "name": "stdout",
          "text": [
            "Digite um numero inteiro: 100\n",
            "Digite a opção para conversão: \n",
            " 1 - Binario \n",
            " 2 - octal \n",
            " 3 - hexadecimal \n",
            "4\n",
            "valor digitado incorreto\n"
          ]
        }
      ]
    },
    {
      "cell_type": "code",
      "source": [
        "# exercicio 38\n",
        "n1=int(input('Digite o primeiro numero: '))\n",
        "n2=int(input('Digite o segundo numero: '))\n",
        "if n1>n2:\n",
        "  print('O numero {} é maior e o numero {} é menor'.format(n1,n2))\n",
        "elif n2>n1:\n",
        "  print('O numero {} é maior e o numero {} é menor'.format(n2,n1))\n",
        "else:\n",
        "  print('Os numeros são iguais')"
      ],
      "metadata": {
        "colab": {
          "base_uri": "https://localhost:8080/"
        },
        "id": "ll4Z-a9Edb3r",
        "outputId": "d7fb44fc-020c-47a9-a254-0e58be530e73"
      },
      "execution_count": null,
      "outputs": [
        {
          "output_type": "stream",
          "name": "stdout",
          "text": [
            "Digite o primeiro numero: 7\n",
            "Digite o segundo numero: 8\n",
            "O numero 8 é maior e o numero 7 é menor\n"
          ]
        }
      ]
    },
    {
      "cell_type": "code",
      "source": [
        "# exercicio 39\n",
        "from datetime import date\n",
        "ano=int(input('Qual seu ano de nascimento: '))\n",
        "hoje=date.today().year\n",
        "idade=hoje-ano\n",
        "if idade<18:\n",
        "  f=18-idade\n",
        "  print('Você ainda não alistou! Falta {} anos para se alistar!'.format(f))\n",
        "elif idade==18:\n",
        "  print('Está na hora de você alistar!')\n",
        "else:\n",
        "  f=idade-18\n",
        "  print('Já passou o tempo de alistar. Você deveria ter alistado a {} anos atras.'.format(f))\n"
      ],
      "metadata": {
        "colab": {
          "base_uri": "https://localhost:8080/"
        },
        "id": "a6FbFKgRe9Bv",
        "outputId": "a1657cfc-c5b2-45ed-9fa5-2685461c8f1e"
      },
      "execution_count": null,
      "outputs": [
        {
          "output_type": "stream",
          "name": "stdout",
          "text": [
            "Qual seu ano de nascimento: 2006\n",
            "Você ainda não alistou! Falta 2 anos para se alistar!\n"
          ]
        }
      ]
    },
    {
      "cell_type": "code",
      "source": [
        "# exercicio 40\n",
        "n1=float(input('Digite sua primeira nota: '))\n",
        "n2=float(input('Digite sua segunda nota: '))\n",
        "m=(n1+n2)/2\n",
        "if m>=7:\n",
        "  print('você foi aprovado com media de {}'.format(m))\n",
        "elif m<5:\n",
        "  print('você foi reprovado com media de {}'.format(m))\n",
        "else:\n",
        "  print('você ficou de recuparação com media de {} '.format(m))"
      ],
      "metadata": {
        "colab": {
          "base_uri": "https://localhost:8080/"
        },
        "id": "2aTM2Cy2kw0A",
        "outputId": "4b3331fb-c717-4d9e-b050-6806a7fe2ed7"
      },
      "execution_count": null,
      "outputs": [
        {
          "output_type": "stream",
          "name": "stdout",
          "text": [
            "Digite sua primeira nota: 5\n",
            "Digite sua segunda nota: 5\n",
            "você ficou de recuparação com media de 5.0 \n"
          ]
        }
      ]
    },
    {
      "cell_type": "code",
      "source": [
        "# exercicio 41\n",
        "from datetime import date\n",
        "ano=int(input('Qual seu ano de nascimento: '))\n",
        "hoje=date.today().year\n",
        "idade=hoje-ano\n",
        "if idade<=9:\n",
        "  print('Como você tem {} anos, você é um atleta mirim!'.format(idade))\n",
        "elif idade>9 and idade<=14:\n",
        "  print('Como você tem {} anos, você é um atleta infantil'.format(idade))\n",
        "elif idade>14 and idade<=19:\n",
        "  print('como você tem {} anos, você é um atleta junior'.format(idade))\n",
        "elif idade==20:\n",
        "  print('Como você tem {} anos, você é um atleta senior '.format(idade))\n",
        "else:\n",
        "  print('como você tem {} anos, você é um atleta master'.format(idade))"
      ],
      "metadata": {
        "colab": {
          "base_uri": "https://localhost:8080/"
        },
        "id": "J6xAGL-Mmmqn",
        "outputId": "45616cec-0467-4a2e-f4ff-7aca5054c9f7"
      },
      "execution_count": null,
      "outputs": [
        {
          "output_type": "stream",
          "name": "stdout",
          "text": [
            "Qual seu ano de nascimento: 1900\n",
            "como você tem 122 anos, você é um atleta master\n"
          ]
        }
      ]
    },
    {
      "cell_type": "code",
      "source": [
        "# exercicio 42\n",
        "c1=int(input('Digite primeiro comprimento da reta: '))\n",
        "c2=int(input('Digite o segundo comprimento da reta: '))\n",
        "c3= int(input('Diogite o terceiro comprimento da reta: '))\n",
        "if (c1+c2)>=c3:\n",
        "  if c1==c2==c3:\n",
        "    print('Essas medidas formam um triangulo Equilátero!')\n",
        "  elif c1==c2!=c3 or c2==c3!=c1 or c1==c3!=c2:\n",
        "    print('Essas medidas formam um triangulo isosceles !')\n",
        "  else:\n",
        "    print('Essas medidas fromam um triangulo escaleno')\n",
        "else:\n",
        "  print('Essas medidas NÃO podem formar um triangulo')"
      ],
      "metadata": {
        "colab": {
          "base_uri": "https://localhost:8080/"
        },
        "id": "xF95pgqbpRa6",
        "outputId": "90ee65d4-30e2-49de-a7b2-a4af17c54fab"
      },
      "execution_count": null,
      "outputs": [
        {
          "output_type": "stream",
          "name": "stdout",
          "text": [
            "Digite primeiro comprimento da reta: 10\n",
            "Digite o segundo comprimento da reta: 15\n",
            "Diogite o terceiro comprimento da reta: 20\n",
            "Essas medidas fromam um triangulo escaleno\n"
          ]
        }
      ]
    },
    {
      "cell_type": "code",
      "source": [
        "# exercicio 43\n",
        "altura=float(input('Digite sua altura em metros: '))\n",
        "peso=float(input('Digite seu peso: '))\n",
        "imc=peso/(altura*altura)\n",
        "if imc<18.5:\n",
        "  print('imc = {:.2f} . Parabéns você está muito magra!'.format(imc))\n",
        "elif imc>= 18.5 and imc<25:\n",
        "  print('imc = {:.2f} . Parabéns você está com peso ideal'.format(imc))\n",
        "elif imc>=25 and imc<30:\n",
        "  print('imc = {:.2f} . Você está com sobrepeso. Precisa fazer dieta. '.format(imc))\n",
        "elif imc>=30 and imc<40:\n",
        "  print('imc = {:2f} . Você está com obesidade. Precisa procurar uma nutricionista e fazer exercicios todos dias urgente !!!'.format(imc))\n",
        "else:\n",
        "  print('imc = {:.2f} . Você está com obesidade mórbita. Procurar um medico com urgencia.'.format(imc))\n"
      ],
      "metadata": {
        "colab": {
          "base_uri": "https://localhost:8080/"
        },
        "id": "BHguiFTjrI6C",
        "outputId": "1671270b-41b5-49e0-f25e-645784128b52"
      },
      "execution_count": null,
      "outputs": [
        {
          "output_type": "stream",
          "name": "stdout",
          "text": [
            "Digite sua altura em metros: 1.81\n",
            "Digite seu peso: 98\n",
            "imc = 29.91 . Você está com sobrepeso. Precisa fazer dieta. \n"
          ]
        }
      ]
    },
    {
      "cell_type": "code",
      "source": [
        "# exercicio 44\n",
        "preço=float(input('Digite o preço do produto: R$ '))\n",
        "c=int(input('Digite a opção de pagamento: \\n 1 - À vista no dinheiro \\n 2 - À vista no cartão \\n 3 - Até 2x no cartão \\n 4 - 3x ou mais no cartão \\n'))\n",
        "if c==1:\n",
        "  p=preço*0.9\n",
        "  print('Você tem 10% de desconto! Preço a pagar é R$ {} '.format(p))\n",
        "elif c==2:\n",
        "  p=preço*0.95\n",
        "  print('Você tem 5% de desconto! Preço a pagar é R$ {} '.format(p))\n",
        "elif c==3:\n",
        "  print('Não tem desconto! Preço a pagar é mesmo R$ {} '.format(preço))\n",
        "elif c==4:\n",
        "  p=preço*1.2\n",
        "  print('Você tem 20% de juros! Preço a pagar é R$ {} '.format(p))\n",
        "else:\n",
        "  print('Valor digitado errado!')\n"
      ],
      "metadata": {
        "colab": {
          "base_uri": "https://localhost:8080/"
        },
        "id": "6E2XItHDuqWt",
        "outputId": "ce23f6ff-b6f5-4184-9032-f8bb7bf6a2c5"
      },
      "execution_count": null,
      "outputs": [
        {
          "output_type": "stream",
          "name": "stdout",
          "text": [
            "Digite o preço do produto: R$ 200\n",
            "Digite a opção de pagamento: \n",
            " 1 - À vista no dinheiro \n",
            " 2 - À vista no cartão \n",
            " 3 - Até 2x no cartão \n",
            " 4 - 3x ou mais no cartão \n",
            "4\n",
            "Você tem 20% de juros! Preço a pagar é R$ 240.0 \n"
          ]
        }
      ]
    },
    {
      "cell_type": "code",
      "source": [
        "# exercicio 45\n",
        "import random\n",
        "print('Vamos jogar jokenpô !')\n",
        "a=['pedra', 'papel', 'tesoura']\n",
        "b=random.choice(a)\n",
        "c=input('Sua opção: \\n pedra \\n papel \\n tesoura \\n Qual é sua jogada? \\n JO \\n KEN \\n PÔ  \\n =========== \\n')\n",
        "if b=='pedra' and c=='pedra':\n",
        "  print('Computador= {} e você= {} EMPATE! '.format(b,c))\n",
        "elif b=='pedra' and c=='papel':\n",
        "  print('Computador= {} e você= {} VOCÊ GANHOU! '.format(b,c))\n",
        "elif b=='pedra' and c=='tesoura':\n",
        "  print('Computador= {} e você= {} COMPUTADOR GANHOU! '.format(b,c))\n",
        "elif b=='papel' and c=='pedra':\n",
        "  print('Computador= {} e você= {} COMPUTADOR GANHOU! '.format(b,c))\n",
        "elif b=='papel' and c=='papel':\n",
        "  print('Computador= {} e você= {} EMPATE! '.format(b,c))\n",
        "elif b=='papel' and c=='tesoura':\n",
        "  print('Computador= {} e você= {} VOCÊ GANHOU! '.format(b,c))\n",
        "elif b=='tesoura' and c=='pedra':\n",
        "  print('Computador= {} e você= {} VOCÊ GANHOU! '.format(b,c))\n",
        "elif b=='tesoura' and c=='papel':\n",
        "  print('Computador= {} e você= {} COMPUTADOR GANHOU! '.format(b,c))\n",
        "elif b=='tesoura' and c=='tesoura':\n",
        "  print('Computador= {} e você= {} EMPATE! '.format(b,c))\n",
        "else:\n",
        "  print('Valor incorreto! Digite novamente!')"
      ],
      "metadata": {
        "colab": {
          "base_uri": "https://localhost:8080/"
        },
        "id": "X-AmQxisyzWx",
        "outputId": "a261b9a0-9962-4881-ec72-13c164059393"
      },
      "execution_count": null,
      "outputs": [
        {
          "output_type": "stream",
          "name": "stdout",
          "text": [
            "Vamos jogar jokenpô !\n",
            "Sua opção: \n",
            " pedra \n",
            " papel \n",
            " tesoura \n",
            " Qual é sua jogada? \n",
            " JO \n",
            " KEN \n",
            " PÔ  \n",
            " =========== \n",
            "tesoura\n",
            "Computador= tesoura e você= tesoura EMPATE! \n"
          ]
        }
      ]
    },
    {
      "cell_type": "code",
      "source": [
        "# exercicio 46\n",
        "from time import sleep\n",
        "for c in range (10,-1,-1):\n",
        "  sleep(1)\n",
        "  print(c)\n",
        "print('Feliz Ano novo!!')\n"
      ],
      "metadata": {
        "id": "HT1GBS2mGU1R",
        "colab": {
          "base_uri": "https://localhost:8080/"
        },
        "outputId": "f8593ba5-7a2e-4163-d3af-18610e6019bc"
      },
      "execution_count": null,
      "outputs": [
        {
          "output_type": "stream",
          "name": "stdout",
          "text": [
            "10\n",
            "9\n",
            "8\n",
            "7\n",
            "6\n",
            "5\n",
            "4\n",
            "3\n",
            "2\n",
            "1\n",
            "0\n",
            "Feliz Ano novo!!\n"
          ]
        }
      ]
    },
    {
      "cell_type": "code",
      "source": [
        "# exercicio 47\n",
        "for c in range (2,51,2):\n",
        "  print(c, end=' ')\n"
      ],
      "metadata": {
        "colab": {
          "base_uri": "https://localhost:8080/"
        },
        "id": "rrNoilRZKQUl",
        "outputId": "c55fb9b5-17be-428c-89d5-a1deebb5fbd3"
      },
      "execution_count": null,
      "outputs": [
        {
          "output_type": "stream",
          "name": "stdout",
          "text": [
            "2 4 6 8 10 12 14 16 18 20 22 24 26 28 30 32 34 36 38 40 42 44 46 48 50 "
          ]
        }
      ]
    },
    {
      "cell_type": "code",
      "source": [
        "# exercicio 48\n",
        "soma=0\n",
        "count=0\n",
        "for c in range(3,501,2):\n",
        "  if c%3==0:\n",
        "    count+=1\n",
        "    soma+=c\n",
        "print('A soma de todos os {} valores solicitados é {} '.format(count,soma))"
      ],
      "metadata": {
        "colab": {
          "base_uri": "https://localhost:8080/"
        },
        "id": "zbu2mqQVLBMm",
        "outputId": "342f6c82-ffc9-421b-d265-11c5b22692f4"
      },
      "execution_count": null,
      "outputs": [
        {
          "output_type": "stream",
          "name": "stdout",
          "text": [
            "A soma de todos os 83 valores solicitados é 20667 \n"
          ]
        }
      ]
    },
    {
      "cell_type": "code",
      "source": [
        "# exercicio 49\n",
        "n=int(input('Digite um valor de 1 a 10: '))\n",
        "for c in range (1,11):\n",
        "  print('{} * {} = {}'.format(n,c,n*c))\n"
      ],
      "metadata": {
        "colab": {
          "base_uri": "https://localhost:8080/"
        },
        "id": "qGCMrlbRM_Ab",
        "outputId": "205de93a-8f3b-40db-ea7b-664e873a62bb"
      },
      "execution_count": null,
      "outputs": [
        {
          "output_type": "stream",
          "name": "stdout",
          "text": [
            "Digite um valor de 1 a 10: 8\n",
            "8 * 1 = 8\n",
            "8 * 2 = 16\n",
            "8 * 3 = 24\n",
            "8 * 4 = 32\n",
            "8 * 5 = 40\n",
            "8 * 6 = 48\n",
            "8 * 7 = 56\n",
            "8 * 8 = 64\n",
            "8 * 9 = 72\n",
            "8 * 10 = 80\n"
          ]
        }
      ]
    },
    {
      "cell_type": "code",
      "source": [
        "# exercicio 50\n",
        "s=0\n",
        "for c in range(1,7):\n",
        "  n=int(input('Digite o {}º numero: '.format(c)))\n",
        "  if n%2==0:\n",
        "    s=s+n\n",
        "print('A soma dos numero pares é {}'.format(s))\n"
      ],
      "metadata": {
        "colab": {
          "base_uri": "https://localhost:8080/"
        },
        "id": "GeXlnP5tN-gR",
        "outputId": "bd4fb589-8325-4d49-97ab-250478708b43"
      },
      "execution_count": null,
      "outputs": [
        {
          "output_type": "stream",
          "name": "stdout",
          "text": [
            "Digite o 1º numero: 1\n",
            "Digite o 2º numero: 3\n",
            "Digite o 3º numero: 4\n",
            "Digite o 4º numero: 5\n",
            "Digite o 5º numero: 7\n",
            "Digite o 6º numero: 9\n",
            "A soma dos numero pares é 4\n"
          ]
        }
      ]
    },
    {
      "cell_type": "code",
      "source": [
        "# exercicio 51\n",
        "a1=int(input('Digite o primeiro termo: '))\n",
        "r=int(input('Digite a razão da PA: '))\n",
        "for c in range(1,11):\n",
        "  an=a1+(c-1)*r\n",
        "  print(an, end=' - ')\n"
      ],
      "metadata": {
        "colab": {
          "base_uri": "https://localhost:8080/"
        },
        "id": "EHioIUaePlTH",
        "outputId": "aeb03887-6bab-4b90-940b-683f3acfcff7"
      },
      "execution_count": null,
      "outputs": [
        {
          "output_type": "stream",
          "name": "stdout",
          "text": [
            "Digite o primeiro termo: 25\n",
            "Digite a razão da PA: 5\n",
            "25 - 30 - 35 - 40 - 45 - 50 - 55 - 60 - 65 - 70 - "
          ]
        }
      ]
    },
    {
      "cell_type": "code",
      "source": [
        "# exercicio 52\n",
        "n=int(input('Digite um numero inteiro: '))\n",
        "mult=0\n",
        "for c in range (2,n):\n",
        "  if n%c==0:\n",
        "    print('Multiplo de {}'.format(c))\n",
        "    mult+=1\n",
        "if mult==0:\n",
        "  print('O numero {} é primo'.format(n))\n",
        "else:\n",
        "  print('O numero {} não é primo'.format(n))\n",
        " "
      ],
      "metadata": {
        "colab": {
          "base_uri": "https://localhost:8080/"
        },
        "id": "Bo6Ir-WLUa0M",
        "outputId": "ba80a5ea-24f3-4dd9-9b16-5280d3f2c60c"
      },
      "execution_count": null,
      "outputs": [
        {
          "output_type": "stream",
          "name": "stdout",
          "text": [
            "Digite um numero inteiro: 13\n",
            "O numero 13 é primo\n"
          ]
        }
      ]
    },
    {
      "cell_type": "code",
      "source": [
        "# exercicio 53\n",
        "frase=input('Digite uma frase: ').upper().strip()\n",
        "frase2=frase.replace(' ','')\n",
        "frase3=frase2[::-1]\n",
        "if frase3==frase2:\n",
        "  print('A frase {} é palíndromo'.format(frase))\n",
        "else:\n",
        "  print('A frase {} não é palíndromo'.format(frase))\n",
        " \n"
      ],
      "metadata": {
        "id": "M3dLHNIMAmXF",
        "colab": {
          "base_uri": "https://localhost:8080/"
        },
        "outputId": "01440cfb-8371-4d52-e80d-ffcfe0554561"
      },
      "execution_count": null,
      "outputs": [
        {
          "output_type": "stream",
          "name": "stdout",
          "text": [
            "Digite uma frase: a sacada da casa\n",
            "A frase A SACADA DA CASA é palíndromo\n"
          ]
        }
      ]
    },
    {
      "cell_type": "code",
      "source": [
        "# exercicio 54\n",
        "from datetime import date\n",
        "atual = date.today().year\n",
        "totalmaior=0\n",
        "totalmenor=0\n",
        "for c in range(1,8):\n",
        "  p=int(input('Digite ano de nascimento da {}º pessoa: '.format(c)))\n",
        "  idade=atual-p\n",
        "  if idade >=21:\n",
        "    totalmaior+=1\n",
        "  else:\n",
        "    totalmenor+=1\n",
        "print('Ao todo tivemos {} pessoas maiores de idade'.format(totalmaior))\n",
        "print('Ao todo tivemos {} pessoas menores de idade'.format(totalmenor))\n"
      ],
      "metadata": {
        "colab": {
          "base_uri": "https://localhost:8080/"
        },
        "id": "Cc8GRVH7V8Vf",
        "outputId": "7659cc3a-bad2-4550-cc8e-d4b79f011feb"
      },
      "execution_count": null,
      "outputs": [
        {
          "output_type": "stream",
          "name": "stdout",
          "text": [
            "Digite ano de nascimento da 1º pessoa: 1983\n",
            "Digite ano de nascimento da 2º pessoa: 1984\n",
            "Digite ano de nascimento da 3º pessoa: 1987\n",
            "Digite ano de nascimento da 4º pessoa: 2001\n",
            "Digite ano de nascimento da 5º pessoa: 2019\n",
            "Digite ano de nascimento da 6º pessoa: 2018\n",
            "Digite ano de nascimento da 7º pessoa: 2015\n",
            "Ao todo tivemos 4 pessoas maiores de idade\n",
            "Ao todo tivemos 3 pessoas menores de idade\n"
          ]
        }
      ]
    },
    {
      "cell_type": "code",
      "source": [
        "# exercicio 55\n",
        "totalmaior=0\n",
        "totalmenor=0\n",
        "for c in range(1,6):\n",
        "  p=float(input('Digite o peso da {}º pessoa: '.format(c)))\n",
        "  if p>=totalmaior:\n",
        "    totalmaior=p    \n",
        "  else:\n",
        "    totalmenor=p\n",
        "  if totalmenor==0 and c==1:\n",
        "    totalmenor=p\n",
        "print('Maior peso é {}'.format(totalmaior))\n",
        "print('menor peso é {}'.format(totalmenor))"
      ],
      "metadata": {
        "colab": {
          "base_uri": "https://localhost:8080/"
        },
        "id": "U5mIc3YRp9dt",
        "outputId": "25ac8d51-14fe-4f8e-dd5e-eb214389b6d3"
      },
      "execution_count": null,
      "outputs": [
        {
          "output_type": "stream",
          "name": "stdout",
          "text": [
            "Digite o peso da 1º pessoa: 70\n",
            "Digite o peso da 2º pessoa: 69\n",
            "Digite o peso da 3º pessoa: 71\n",
            "Digite o peso da 4º pessoa: 72\n",
            "Digite o peso da 5º pessoa: 73\n",
            "Maior peso é 73.0\n",
            "menor peso é 69.0\n"
          ]
        }
      ]
    },
    {
      "cell_type": "code",
      "source": [
        "# exercicio 56\n",
        "maioridade=0 \n",
        "media=0\n",
        "mulher=0\n",
        "for c in range(1,5):\n",
        "  nome=input('Digite o nome: ').upper().strip()\n",
        "  idade=int(input('Digite a idade: '))\n",
        "  sexo=(input('Digite F - Femenino ou M - Masculino ')).upper().strip()\n",
        "  media=media+idade\n",
        "  if idade>=maioridade:\n",
        "    maioridade = idade\n",
        "    nomemaioridade=nome\n",
        "  if idade<=20 and sexo=='F':\n",
        "    mulher=mulher+1\n",
        "print('{} tem maior idade'.format(nomemaioridade))\n",
        "media=media/4\n",
        "print('A Media das idades do grupo é {}'.format(media))\n",
        "print('Total de mulheres menor de 20 ano é {}'.format(mulher))"
      ],
      "metadata": {
        "colab": {
          "base_uri": "https://localhost:8080/"
        },
        "id": "bEju3XGJiqUS",
        "outputId": "96adba35-9274-46f0-c31f-9ce7f8b23fb4"
      },
      "execution_count": null,
      "outputs": [
        {
          "output_type": "stream",
          "name": "stdout",
          "text": [
            "Digite o nome: chris\n",
            "Digite a idade: 38\n",
            "Digite F - Femenino ou M - Masculino f\n",
            "Digite o nome: isabela\n",
            "Digite a idade: 6\n",
            "Digite F - Femenino ou M - Masculino f\n",
            "Digite o nome: isadora\n",
            "Digite a idade: 3\n",
            "Digite F - Femenino ou M - Masculino f\n",
            "Digite o nome: nylson\n",
            "Digite a idade: 44\n",
            "Digite F - Femenino ou M - Masculino m\n",
            "NYLSON tem maior idade\n",
            "A Media das idades do grupo é 22.75\n",
            "Total de mulheres menor de 20 ano é 2\n"
          ]
        }
      ]
    },
    {
      "cell_type": "code",
      "source": [
        "# exercicio 57\n",
        "sexo=input('Qual o sexo: F Femenino e M Masculino ').upper().strip()[0]\n",
        "while sexo!='F' and sexo!='M':\n",
        "  print('Digitação incorreta! Por favor digitar novamente!')\n",
        "  sexo=input('Qual o sexo: F Femenino e M Masculino ').upper().strip()[0]\n",
        "if sexo=='F' or sexo=='M':\n",
        "  print('O sexo digitado foi {}'.format(sexo))"
      ],
      "metadata": {
        "colab": {
          "base_uri": "https://localhost:8080/"
        },
        "id": "n0kCqCMlyCFg",
        "outputId": "1bde8662-ff90-45f4-b40b-06d66fdee73a"
      },
      "execution_count": null,
      "outputs": [
        {
          "output_type": "stream",
          "name": "stdout",
          "text": [
            "Qual o sexo: F Femenino e M Masculino masculino\n",
            "O sexo digitado foi M\n"
          ]
        }
      ]
    },
    {
      "cell_type": "code",
      "source": [
        "# exercicio 58\n",
        "import random\n",
        "a=[0,1,2,3,4,5,6,7,8,9,10]\n",
        "b=random.choice(a)\n",
        "print('O Computador pensou em numero de 0 a 10')\n",
        "c=int(input('Qual numero ele pensou?'))\n",
        "cont=1\n",
        "while b!=c:\n",
        "  print('você errou! Tente novamente!')\n",
        "  c=int(input('Qual numero ele pensou?'))\n",
        "  cont+=1\n",
        "print('Muito bem ! Você acertou! Você realizou {} tentativas'.format(cont))"
      ],
      "metadata": {
        "colab": {
          "base_uri": "https://localhost:8080/"
        },
        "id": "kgaxqBF31SQc",
        "outputId": "38601c88-4392-4ef6-e2c9-036dcd8c200f"
      },
      "execution_count": null,
      "outputs": [
        {
          "output_type": "stream",
          "name": "stdout",
          "text": [
            "O Computador pensou em numero de 0 a 10\n",
            "Qual numero ele pensou?5\n",
            "você errou! Tente novamente!\n",
            "Qual numero ele pensou?6\n",
            "você errou! Tente novamente!\n",
            "Qual numero ele pensou?4\n",
            "Muito bem ! Você acertou! Você realizou 3 tentativas\n"
          ]
        }
      ]
    },
    {
      "cell_type": "code",
      "source": [
        "# exercicio 59\n",
        "n1=int(input('Digite primeiro numero: '))\n",
        "n2=int(input('Digite segundo numero: '))\n",
        "op=int(input('Digite as opções: \\n [1] somar \\n [2] multiplicar \\n [3] maior \\n [4] novos numeros \\n [5] sair do programa \\n'))\n",
        "while op==4:\n",
        "  n1=int(input('Digite primeiro numero: '))\n",
        "  n2=int(input('Digite segundo numero: '))\n",
        "  op=int(input('Digite as opções: \\n [1] somar \\n [2] multiplicar \\n [3] maior \\n [4] novos numeros \\n [5] sair do programa \\n'))\n",
        "if op==1:\n",
        "    soma=n1+n2\n",
        "    print('A soma dos numeros {} + {} = {}'.format(n1,n2,soma))\n",
        "elif op==2:\n",
        "    mult=n1*n2\n",
        "    print('A multiplicação dos numeros {} * {} = {}'.format(n1,n2,mult))\n",
        "elif op==3:\n",
        "  if n1>n2:\n",
        "    print('O numero {} é maior que {}'.format(n1,n2))\n",
        "  elif n1<n2:\n",
        "    print('O numero {} é maior que {}'.format(n2,n1))\n",
        "  else:\n",
        "      print('Os numeros são iguais')  \n",
        "elif op==5:\n",
        "  print('Programa finalizado')\n",
        "elif op!=1 and op!=2 and op!=3 and op!=4 and op!=5:\n",
        "  print('Valor digitado incorreto ')"
      ],
      "metadata": {
        "colab": {
          "base_uri": "https://localhost:8080/"
        },
        "id": "KkSY13vJ5McT",
        "outputId": "48c9fd18-1fb4-4b6d-de02-2358297f0de5"
      },
      "execution_count": null,
      "outputs": [
        {
          "output_type": "stream",
          "name": "stdout",
          "text": [
            "Digite primeiro numero: 6\n",
            "Digite segundo numero: 7\n",
            "Digite as opções: \n",
            " [1] somar \n",
            " [2] multiplicar \n",
            " [3] maior \n",
            " [4] novos numeros \n",
            " [5] sair do programa \n",
            "4\n",
            "Digite primeiro numero: 5\n",
            "Digite segundo numero: 6\n",
            "Digite as opções: \n",
            " [1] somar \n",
            " [2] multiplicar \n",
            " [3] maior \n",
            " [4] novos numeros \n",
            " [5] sair do programa \n",
            "4\n",
            "Digite primeiro numero: 8\n",
            "Digite segundo numero: 7\n",
            "Digite as opções: \n",
            " [1] somar \n",
            " [2] multiplicar \n",
            " [3] maior \n",
            " [4] novos numeros \n",
            " [5] sair do programa \n",
            "3\n",
            "O numero 8 é maior que 7\n"
          ]
        }
      ]
    },
    {
      "cell_type": "code",
      "source": [
        "# exercicio 60\n",
        "n=int(input('Digite um numero: '))\n",
        "cont=n\n",
        "c=n\n",
        "while cont!=1:\n",
        "  n=n*(cont-1)\n",
        "  cont=cont-1\n",
        "print('Fatorial do numero {}! é: {}'.format(c,n))\n",
        "\n",
        "# from math import factorial\n",
        "# f= factorial(n)"
      ],
      "metadata": {
        "colab": {
          "base_uri": "https://localhost:8080/"
        },
        "id": "vkrfQ-jiAzvU",
        "outputId": "3dc62d4e-6806-4da1-fc06-1ce092dc85e1"
      },
      "execution_count": null,
      "outputs": [
        {
          "output_type": "stream",
          "name": "stdout",
          "text": [
            "Digite um numero: 6\n",
            "Fatorial do numero 6! é: 720\n"
          ]
        }
      ]
    },
    {
      "cell_type": "code",
      "source": [
        "# exercicio 61\n",
        "a1=int(input('Digite o primeiro termo: '))\n",
        "r=int(input('Digite a razão da PA: '))\n",
        "c=0\n",
        "while c<11:\n",
        "  an=a1+(c-1)*r\n",
        "  c=c+1\n",
        "  print(an, end=' - ')\n",
        "\n"
      ],
      "metadata": {
        "colab": {
          "base_uri": "https://localhost:8080/"
        },
        "id": "0mlTbR4fIWNR",
        "outputId": "d1d4443a-dfd4-4a7d-d5a8-7eff3b59a286"
      },
      "execution_count": null,
      "outputs": [
        {
          "output_type": "stream",
          "name": "stdout",
          "text": [
            "Digite o primeiro termo: 5\n",
            "Digite a razão da PA: 2\n",
            "3 - 5 - 7 - 9 - 11 - 13 - 15 - 17 - 19 - 21 - 23 - "
          ]
        }
      ]
    },
    {
      "cell_type": "code",
      "source": [
        "# exercicio 62\n",
        "t=int(input('Quantos termos você quer veririficar? '))\n",
        "a=1\n",
        "while t!=0:\n",
        "  while a<=t:\n",
        "    a1=int(input('Digite o primeiro termo: '))\n",
        "    r=int(input('Digite a razão da PA: '))\n",
        "    c=0\n",
        "    while c<11:\n",
        "      an=a1+(c-1)*r\n",
        "      c=c+1\n",
        "      print(an, end=' - ')\n",
        "    a=a+1\n",
        "    0\n",
        "  t=int(input('Quantos termos você quer veririficar? '))\n",
        "  a=1\n",
        "if t==0:\n",
        "  print('finalizado')\n"
      ],
      "metadata": {
        "colab": {
          "base_uri": "https://localhost:8080/"
        },
        "id": "MCRtCzhaJmQ-",
        "outputId": "3ff1bc3c-ca46-43dd-cc4a-ddc39ce03436"
      },
      "execution_count": null,
      "outputs": [
        {
          "output_type": "stream",
          "name": "stdout",
          "text": [
            "Quantos termos você quer veririficar? 2\n",
            "Digite o primeiro termo: 2\n",
            "Digite a razão da PA: 2\n",
            "0 - 2 - 4 - 6 - 8 - 10 - 12 - 14 - 16 - 18 - 20 - Digite o primeiro termo: 2\n",
            "Digite a razão da PA: 2\n",
            "0 - 2 - 4 - 6 - 8 - 10 - 12 - 14 - 16 - 18 - 20 - Quantos termos você quer veririficar? 1\n",
            "Digite o primeiro termo: 2\n",
            "Digite a razão da PA: 2\n",
            "0 - 2 - 4 - 6 - 8 - 10 - 12 - 14 - 16 - 18 - 20 - Quantos termos você quer veririficar? 2\n",
            "Digite o primeiro termo: 2\n",
            "Digite a razão da PA: 2\n",
            "0 - 2 - 4 - 6 - 8 - 10 - 12 - 14 - 16 - 18 - 20 - Digite o primeiro termo: 2\n",
            "Digite a razão da PA: 2\n",
            "0 - 2 - 4 - 6 - 8 - 10 - 12 - 14 - 16 - 18 - 20 - Quantos termos você quer veririficar? 1\n",
            "Digite o primeiro termo: 2\n",
            "Digite a razão da PA: 2\n",
            "0 - 2 - 4 - 6 - 8 - 10 - 12 - 14 - 16 - 18 - 20 - Quantos termos você quer veririficar? 0\n",
            "finalizado\n"
          ]
        }
      ]
    },
    {
      "cell_type": "code",
      "source": [
        "# exercicio 63\n",
        "n=int(input('Digite um numero inteiro: '))\n",
        "a=1\n",
        "ultimo=1\n",
        "penultimo=1\n",
        "print('0 - 1 - 1',end=' - ')\n",
        "if(n==1) or (n==2):\n",
        "  print('1')\n",
        "else:\n",
        "  count=4\n",
        "  while count<=n:\n",
        "    termo= ultimo + penultimo\n",
        "    penultimo=ultimo\n",
        "    ultimo=termo\n",
        "    count+=1\n",
        "    print(termo, end=' - ')\n",
        "  print('FIM')"
      ],
      "metadata": {
        "colab": {
          "base_uri": "https://localhost:8080/"
        },
        "id": "dAJuH4fRvrj2",
        "outputId": "8986f0a7-70ee-42b4-cdda-2d102b2f8350"
      },
      "execution_count": null,
      "outputs": [
        {
          "output_type": "stream",
          "name": "stdout",
          "text": [
            "Digite um numero inteiro: 12\n",
            "0 - 1 - 1 - 2 - 3 - 5 - 8 - 13 - 21 - 34 - 55 - 89 - FIM\n"
          ]
        }
      ]
    },
    {
      "cell_type": "code",
      "source": [
        "# exercicio 64\n",
        "n=int(input('Digite o numero [Digite 999 para parar]: '))\n",
        "count=0\n",
        "soma=0\n",
        "while n!=999:\n",
        "  soma=soma+n\n",
        "  count=count+1\n",
        "  n=int(input('Digite o numero [Digite 999 para parar]: '))\n",
        "if n==999:\n",
        "  print('Você digitou {} numeros e soma deles é {}'.format(count,soma))\n"
      ],
      "metadata": {
        "colab": {
          "base_uri": "https://localhost:8080/"
        },
        "id": "lbdAhkDc5G2Q",
        "outputId": "98af95c8-0286-4446-b8aa-c6b7a6d09096"
      },
      "execution_count": null,
      "outputs": [
        {
          "output_type": "stream",
          "name": "stdout",
          "text": [
            "Digite o numero [Digite 999 para parar]: 1\n",
            "Digite o numero [Digite 999 para parar]: 2\n",
            "Digite o numero [Digite 999 para parar]: 3\n",
            "Digite o numero [Digite 999 para parar]: 999\n",
            "Você digitou 3 numeros e soma deles é 6\n"
          ]
        }
      ]
    },
    {
      "cell_type": "code",
      "source": [
        "# exercicio 65\n",
        "n=int(input('Digite o numero: '))\n",
        "count=1\n",
        "soma=0\n",
        "maiornumero=n\n",
        "menornumero=n\n",
        "c=input('Você gostaria de acrecenter outro numero: S para Sim e N para não').upper().strip()\n",
        "while c=='S':\n",
        "  if n>maiornumero:\n",
        "    maiornumero=n    \n",
        "  elif n<menornumero:\n",
        "    menornumero=n\n",
        "  soma=soma+n\n",
        "  count=count+1\n",
        "  n=int(input('Digite o numero: '))\n",
        "  c=input('Você gostaria de acrecenter outro numero: S para Sim e N para não: ').upper().strip()\n",
        "if c=='N':\n",
        "  if n>maiornumero:\n",
        "    maiornumero=n\n",
        "  elif n<menornumero:\n",
        "    menornumero=n\n",
        "  soma=soma+n\n",
        "  media=soma/count\n",
        "  print('Você digitou {} numeros e a média deles é {:.2f}'.format(count,media))\n",
        "  print(soma)\n",
        "  print('O maior numero é {} e o menor numero é {}'.format(maiornumero,menornumero))"
      ],
      "metadata": {
        "colab": {
          "base_uri": "https://localhost:8080/"
        },
        "id": "86dUls7--thy",
        "outputId": "195fb976-830f-49e2-abb7-7b6377eee49e"
      },
      "execution_count": null,
      "outputs": [
        {
          "output_type": "stream",
          "name": "stdout",
          "text": [
            "Digite o numero: 5\n",
            "Você gostaria de acrecenter outro numero: S para Sim e N para nãos\n",
            "Digite o numero: 5\n",
            "Você gostaria de acrecenter outro numero: S para Sim e N para não: s\n",
            "Digite o numero: 4\n",
            "Você gostaria de acrecenter outro numero: S para Sim e N para não: s\n",
            "Digite o numero: 2\n",
            "Você gostaria de acrecenter outro numero: S para Sim e N para não: n\n",
            "Você digitou 4 numeros e a média deles é 4.00\n",
            "16\n",
            "O maior numero é 5 e o menor numero é 2\n"
          ]
        }
      ]
    },
    {
      "cell_type": "code",
      "source": [
        "# exercicio 66\n",
        "n=int(input('Digite o numero [Digite 999 para parar]: '))\n",
        "count=0\n",
        "soma=0\n",
        "while n!=999:\n",
        "  soma=soma+n\n",
        "  count=count+1\n",
        "  n=int(input('Digite o numero [Digite 999 para parar]: '))\n",
        "if n==999:\n",
        "  print('Você digitou {} numeros e soma deles é {}'.format(count,soma))\n"
      ],
      "metadata": {
        "colab": {
          "base_uri": "https://localhost:8080/"
        },
        "id": "Yfd8OBHN-2SA",
        "outputId": "fe0fab62-2cef-4f53-d8bc-40a2e6fb1575"
      },
      "execution_count": null,
      "outputs": [
        {
          "output_type": "stream",
          "name": "stdout",
          "text": [
            "Digite o numero [Digite 999 para parar]: 5\n",
            "Digite o numero [Digite 999 para parar]: 6\n",
            "Digite o numero [Digite 999 para parar]: 7\n",
            "Digite o numero [Digite 999 para parar]: 8\n",
            "Digite o numero [Digite 999 para parar]: 999\n",
            "Você digitou 4 numeros e soma deles é 26\n"
          ]
        }
      ]
    },
    {
      "cell_type": "code",
      "source": [
        "# exercicio 67\n",
        "n=int(input('Quer ver tabuada de qual valor?: '))\n",
        "print('__________')\n",
        "while n>=0:\n",
        "  for c in range (1,11):  \n",
        "    print('{} * {} = {}'.format(n,c,n*c))\n",
        "  n=int(input('Quer ver tabuada de qual valor?: '))\n",
        "  print('_________')\n",
        "if n<0:\n",
        "  print('tabuada encerrada!')"
      ],
      "metadata": {
        "colab": {
          "base_uri": "https://localhost:8080/"
        },
        "id": "ptujpWNF_Re8",
        "outputId": "8b0b6fc5-0bdf-4e92-bb56-5042d93bb550"
      },
      "execution_count": null,
      "outputs": [
        {
          "output_type": "stream",
          "name": "stdout",
          "text": [
            "Quer ver tabuada de qual valor?: 5\n",
            "_______________\n",
            "5 * 1 = 5\n",
            "5 * 2 = 10\n",
            "5 * 3 = 15\n",
            "5 * 4 = 20\n",
            "5 * 5 = 25\n",
            "5 * 6 = 30\n",
            "5 * 7 = 35\n",
            "5 * 8 = 40\n",
            "5 * 9 = 45\n",
            "5 * 10 = 50\n",
            "Quer ver tabuada de qual valor?: 6\n",
            "_______________\n",
            "6 * 1 = 6\n",
            "6 * 2 = 12\n",
            "6 * 3 = 18\n",
            "6 * 4 = 24\n",
            "6 * 5 = 30\n",
            "6 * 6 = 36\n",
            "6 * 7 = 42\n",
            "6 * 8 = 48\n",
            "6 * 9 = 54\n",
            "6 * 10 = 60\n",
            "Quer ver tabuada de qual valor?: -5\n",
            "_______________\n",
            "_______________\n",
            "tabuada encerrada!\n"
          ]
        }
      ]
    },
    {
      "cell_type": "code",
      "source": [
        "# exercicio 68:\n",
        "import random\n",
        "print('========================')\n",
        "print('VAMOS JOGAR PAR OU ÍMPAR')\n",
        "print('========================')\n",
        "n1=int(input('Digite um valor inteiro: '))\n",
        "a=input('PAR OU ÍMPAR? [P/I]').upper().strip()\n",
        "print('------------------------')\n",
        "n3=[1,2,3,4,5,6,7,8,9,10]\n",
        "n2=random.choice(n3)\n",
        "soma=n1+n2\n",
        "while a=='P' and soma%2==0:\n",
        "  print('você escolheu {} e o computador {}'.format(n1,n2))\n",
        "  print('A soma é {} e deu PAR'.format(soma))\n",
        "  print('Você venceu!!')\n",
        "  print('Vamos jogar novamente !!')\n",
        "  n1=int(input('Digite um valor inteiro: '))\n",
        "  a=input('PAR OU ÍMPAR? [P/I]').upper().strip()\n",
        "  print('------------------------')\n",
        "  n3=[1,2,3,4,5,6,7,8,9,10]\n",
        "  n2=random.choice(n3)\n",
        "  soma=n1+n2\n",
        "if a=='I'and soma%2==0:\n",
        "  print('você escolheu {} e o computador {}'.format(n1,n2))\n",
        "  print('A soma é {} e deu PAR'.format(soma))\n",
        "  print('Você perdeu!')\n",
        "  print('Jogo finalizado!')\n",
        "while a=='I' and soma%2!=0:\n",
        "  print('você escolheu {} e o computador {}'.format(n1,n2))\n",
        "  print('A soma é {} e deu IMPAR'.format(soma))\n",
        "  print('Você venceu!!')\n",
        "  print('Vamos jogar novamente !!')\n",
        "  n1=int(input('Digite um valor inteiro: '))\n",
        "  a=input('PAR OU ÍMPAR? [P/I]').upper().strip()\n",
        "  print('------------------------')\n",
        "  n3=[1,2,3,4,5,6,7,8,9,10]\n",
        "  n2=random.choice(n3)\n",
        "  soma=n1+n2\n",
        "if a=='P' and soma%2!=0:\n",
        "   print('você escolheu {} e o computador {}'.format(n1,n2))\n",
        "   print('A soma é {} e deu ÍMPAR'.format(soma))\n",
        "   print('Você perdeu!')\n",
        "   print('Jogo finalizado!')"
      ],
      "metadata": {
        "colab": {
          "base_uri": "https://localhost:8080/"
        },
        "id": "SJi_6ZxUCujA",
        "outputId": "00da8072-01a8-4c82-f9eb-dc2b081d82d4"
      },
      "execution_count": null,
      "outputs": [
        {
          "output_type": "stream",
          "name": "stdout",
          "text": [
            "========================\n",
            "VAMOS JOGAR PAR OU ÍMPAR\n",
            "========================\n",
            "Digite um valor inteiro: 9\n",
            "PAR OU ÍMPAR? [P/I]p\n",
            "------------------------\n",
            "você escolheu 9 e o computador 5\n",
            "A soma é 14 e deu PAR\n",
            "Você venceu!!\n",
            "Vamos jogar novamente !!\n",
            "Digite um valor inteiro: 1\n",
            "PAR OU ÍMPAR? [P/I]i\n",
            "------------------------\n",
            "você escolheu 1 e o computador 8\n",
            "A soma é 9 e deu IMPAR\n",
            "Você venceu!!\n",
            "Vamos jogar novamente !!\n",
            "Digite um valor inteiro: 2\n",
            "PAR OU ÍMPAR? [P/I]p\n",
            "------------------------\n"
          ]
        }
      ]
    },
    {
      "cell_type": "code",
      "source": [
        "# exercicio 69\n",
        "idade=int(input('Digite a idade: '))\n",
        "sexo=input('Digite F - Feminino e M - Masculino: ').upper().strip()[0]\n",
        "countidade=0\n",
        "countsexom=0\n",
        "countm20=0\n",
        "if idade>=18:\n",
        "    countidade=countidade+1\n",
        "if sexo=='M':\n",
        "    countsexom=countsexom+1\n",
        "if sexo=='F' and idade<20:\n",
        "    countm20=countm20+1\n",
        "c=input('Deseja Continuar? S-SIM N-Não: ').upper().strip()[0]\n",
        "while c=='S':\n",
        "  idade=int(input('Digite a idade: '))\n",
        "  sexo=input('Digite F - Feminino e M - Masculino: ').upper().strip()[0]\n",
        "  c=input('Deseja Continuar? S-SIM N-Não: ').upper().strip()[0]\n",
        "  if idade>=18:\n",
        "    countidade=countidade+1\n",
        "  if sexo=='M':\n",
        "    countsexom=countsexom+1\n",
        "  if sexo=='F' and idade<20:\n",
        "    countm20=countm20+1\n",
        "if c=='N':\n",
        "  print('{} tem mais de 18 anos'.format(countidade))\n",
        "  print('{} são masculinos.'.format(countsexom))\n",
        "  print('{} são mulheres menores que 20 anos'.format(countm20))\n",
        "  print('Programa finalizado')"
      ],
      "metadata": {
        "colab": {
          "base_uri": "https://localhost:8080/"
        },
        "id": "Zs7kKd0URgv4",
        "outputId": "0b80518a-73bd-4bdb-8817-f5ea89f226dd"
      },
      "execution_count": null,
      "outputs": [
        {
          "output_type": "stream",
          "name": "stdout",
          "text": [
            "Digite a idade: 5\n",
            "Digite F - Feminino e M - Masculinof\n",
            "Deseja Continuar? S-SIM N-Não: s\n",
            "Digite a idade: 6\n",
            "Digite F - Feminino e M - Masculinof\n",
            "Deseja Continuar? S-SIM N-Não: s\n",
            "Digite a idade: 19\n",
            "Digite F - Feminino e M - Masculinom\n",
            "Deseja Continuar? S-SIM N-Não: s\n",
            "Digite a idade: 22\n",
            "Digite F - Feminino e M - Masculinof\n",
            "Deseja Continuar? S-SIM N-Não: n\n",
            "2 tem mais de 18 anos\n",
            "1 são masculinos.\n",
            "2 são mulheres menores que 20 anos\n",
            "Programa finalizado\n"
          ]
        }
      ]
    },
    {
      "cell_type": "code",
      "source": [
        "# exercicio 70\n",
        "produto=input('Nome do produto: ').upper()\n",
        "preço=float(input('Preço do produto: R$ '))\n",
        "c=input('Deseja continuar? S - Sim N - Não: ').upper().strip()[0]\n",
        "soma=preço\n",
        "count=0\n",
        "menorpreço=preço\n",
        "if preço>=1000:\n",
        "  count=count+1\n",
        "while c=='S':\n",
        "  produto=input('Nome do produto: ').upper()\n",
        "  preço=float(input('Preço do produto: R$ '))\n",
        "  c=input('Deseja continuar? S - Sim N - Não: ').upper().strip()[0]\n",
        "  soma=soma+preço\n",
        "  if preço>=1000:\n",
        "    count=count+1\n",
        "  if preço<menorpreço:\n",
        "    menorpreço=preço\n",
        "    nome=produto\n",
        "if c=='N':\n",
        "  print('Total gasto é R$ {}'.format(soma))\n",
        "  print('{} produtos são maiores que R$ 1.000,00'.format(count))\n",
        "  print('O produto {} que custa R$ {} é mais barato.'.format(nome,menorpreço))\n",
        "  print('Programa finalizado!')\n"
      ],
      "metadata": {
        "id": "HBLBlDJFnUGN"
      },
      "execution_count": null,
      "outputs": []
    },
    {
      "cell_type": "code",
      "source": [
        "# exercicio 71\n",
        "print('CAIXA ELETRONICO')\n",
        "valor=int(input('Qual valor a ser sacado? '))\n",
        "if valor>=50:\n",
        "  if valor%50==0:\n",
        "    count50=valor/50\n",
        "    print('receber {} notas de R$ 50.00'.format(count50))\n",
        "  else:\n",
        "    count50=valor//50\n",
        "    valor=valor-(count50*50)\n",
        "    print('receber {} notas de R$ 50.00'.format(count50))\n",
        "if valor>=20 and valor<50:\n",
        "  if valor%20==0:\n",
        "    count20=valor/20\n",
        "    print('receber {} notas de R$ 20.00'.format(count20))\n",
        "  else:\n",
        "    count20=valor//20\n",
        "    valor=valor-(count20*20)\n",
        "    print('receber {} notas de R$ 20.00'.format(count20))\n",
        "if valor>=10 and valor<20:\n",
        "  if valor%10==0:\n",
        "    count10=valor/10\n",
        "    print('receber {} notas de R$ 10.00'.format(count10))\n",
        "  else:\n",
        "    count10=valor//10\n",
        "    valor=valor-(count10*10)\n",
        "    print('receber {} notas de R$ 10.00'.format(count10))\n",
        "if valor>=1 and valor<10:\n",
        "  if valor%1==0:\n",
        "    count1=valor/1\n",
        "    print('receber {} notas de R$ 1.00'.format(count1))\n",
        "  else:\n",
        "    count1=valor//1\n",
        "    valor=valor-(count1*1)\n",
        "    print('receber {} notas de R$ 1.00'.format(count1))\n"
      ],
      "metadata": {
        "colab": {
          "base_uri": "https://localhost:8080/"
        },
        "id": "edoCZUZarDmc",
        "outputId": "f04946e8-4d31-4a2d-9195-ffda9be6f4d7"
      },
      "execution_count": null,
      "outputs": [
        {
          "output_type": "stream",
          "name": "stdout",
          "text": [
            "CAIXA ELETRONICO\n",
            "Qual valor a ser sacado? 120\n",
            "receber 2 notas de R$ 50.00\n",
            "receber 1.0 notas de R$ 20.00\n"
          ]
        }
      ]
    },
    {
      "cell_type": "code",
      "source": [
        "# exercicio 72\n",
        "tupla=('zero', 'um', 'dois', 'três', 'quatro', 'cinco', 'seis', 'sete', 'oito', 'nove', 'dez', 'onze', 'doze', 'treze', 'quartoze', 'quinze', 'dezesseis', 'dezessete', 'dezoito', 'dezenove', 'vinte' )\n",
        "n=int(input('Digite um numero de 0 a 20: '))\n",
        "while n>20 or n<0:\n",
        "  print('valor incorreto!')\n",
        "  n=int(input('Digite um numero de 0 a 20: '))\n",
        "print('Você digitou o numero {}'.format(tupla[n]))"
      ],
      "metadata": {
        "colab": {
          "base_uri": "https://localhost:8080/"
        },
        "id": "NGXSOZ2c8Nm-",
        "outputId": "fe9132df-59b5-4a6c-f311-d85a9da7f452"
      },
      "execution_count": null,
      "outputs": [
        {
          "output_type": "stream",
          "name": "stdout",
          "text": [
            "Digite um numero de 0 a 20: 20\n",
            "Você digitou o numero vinte\n"
          ]
        }
      ]
    },
    {
      "cell_type": "code",
      "source": [
        "# exercicio 73:\n",
        "tupla=('Palmeiras', 'Santos', 'vasco', 'gremio', 'Flamengo', 'Corinthians', 'internacional', 'Cruzeiro', 'São Paulo', 'Altletico', 'Botafogo', 'Fluminense', 'Coritiba', 'Bahia', 'Goias', 'Guarani', 'Sport', 'Portuguesa', 'Aletico Parainense', 'Vitoria')\n",
        "print('Os primeiros colocados são: ')\n",
        "for c in range(0,5):\n",
        "  print(f'{tupla[c]}')\n",
        "print('=============================')\n",
        "print('Os ultimos 4 colocados são: ')\n",
        "for c in range(16,20):\n",
        "  print(f'{tupla[c]}')\n",
        "print('=============================')\n",
        "print('Os times em ordem alfabetica: ')\n",
        "print(sorted(tupla))\n",
        "print('=============================')\n",
        "for c in range(0,20):\n",
        "  if tupla[c]=='Corinthians':\n",
        "    print('O time do corinthias está na posição {}: '.format(c+1))\n"
      ],
      "metadata": {
        "colab": {
          "base_uri": "https://localhost:8080/"
        },
        "id": "wXjhWzdq-sIw",
        "outputId": "e581d577-bebb-4744-d397-8c1f8b32b57a"
      },
      "execution_count": null,
      "outputs": [
        {
          "output_type": "stream",
          "name": "stdout",
          "text": [
            "Os primeiros colocados são: \n",
            "Palmeiras\n",
            "Santos\n",
            "vasco\n",
            "gremio\n",
            "Flamengo\n",
            "=============================\n",
            "Os ultimos 4 colocados são: \n",
            "Sport\n",
            "Portuguesa\n",
            "Aletico Parainense\n",
            "Vitoria\n",
            "=============================\n",
            "Os times em ordem alfabetica: \n",
            "['Aletico Parainense', 'Altletico', 'Bahia', 'Botafogo', 'Corinthians', 'Coritiba', 'Cruzeiro', 'Flamengo', 'Fluminense', 'Goias', 'Guarani', 'Palmeiras', 'Portuguesa', 'Santos', 'Sport', 'São Paulo', 'Vitoria', 'gremio', 'internacional', 'vasco']\n",
            "=============================\n",
            "O time do corinthias está na posição 6: \n"
          ]
        }
      ]
    },
    {
      "cell_type": "code",
      "source": [
        "# exercicio 74\n",
        "import random\n",
        "tupla=(random.randint(1,10),random.randint(1,10),random.randint(1,10),random.randint(1,10),random.randint(1,10))\n",
        "print(tupla)\n",
        "tuplaordenada=sorted(tupla)\n",
        "print('O maior numero é {}'.format(tuplaordenada[4]))\n",
        "print('O menor numero é {}'.format(tuplaordenada[0]))"
      ],
      "metadata": {
        "id": "zBn5PXCoHpQH",
        "colab": {
          "base_uri": "https://localhost:8080/"
        },
        "outputId": "007f9554-509c-4168-ae02-9689eeaea93a"
      },
      "execution_count": null,
      "outputs": [
        {
          "output_type": "stream",
          "name": "stdout",
          "text": [
            "(5, 7, 4, 5, 10)\n",
            "O maior numero é 10\n",
            "O menor numero é 4\n"
          ]
        }
      ]
    },
    {
      "cell_type": "code",
      "source": [
        "# exercicio 75\n",
        "tupla=(int(input('Digite primeiro numero: ')),int(input('Digite segunda numero: ')),int(input('Digite terceiro numero: ')),int(input('Digite quarto numero: ')))\n",
        "print(f'O valor 9 foi digitado {tupla.count(9)} vezes')\n",
        "if 3 in tupla:\n",
        "  print(f'O valor 3 apareceu na {tupla.index(3)+1}º posição')\n",
        "else:\n",
        "  print('O valor 3 não foi digitado nenhuma vez')\n",
        "print('Os valores pares digitados foram: ', end=' ')\n",
        "for c in tupla:\n",
        "  if c%2==0:\n",
        "    print(c,end=' ')\n",
        "\n",
        "\n",
        "\n"
      ],
      "metadata": {
        "colab": {
          "base_uri": "https://localhost:8080/"
        },
        "id": "GvQ3xZbsnrHR",
        "outputId": "2dc5dfdd-c9df-4d27-eac4-2135bb62073a"
      },
      "execution_count": null,
      "outputs": [
        {
          "output_type": "stream",
          "name": "stdout",
          "text": [
            "Digite primeiro numero: 6\n",
            "Digite segunda numero: 5\n",
            "Digite terceiro numero: 4\n",
            "Digite quarto numero: 2\n",
            "O valor 9 foi digitado 0 vezes\n",
            "O valor não foi digitado nenhuma vez\n",
            "Os valores pares digitados foram:  6 4 2 "
          ]
        }
      ]
    },
    {
      "cell_type": "code",
      "source": [
        "# exercicio 76\n",
        "tupla=('lapis',1.75, 'borracha', 2.00, 'caderno', 15.90, 'estojo',25.00)\n",
        "print('='*38)\n",
        "print('     LISTAGEM DE PREÇOS     ')\n",
        "print('='*38)\n",
        "for c in range (0, len(tupla),2):\n",
        " print(f'{tupla[c]:.<15}...............R$ {tupla[c+1]:>5}')"
      ],
      "metadata": {
        "colab": {
          "base_uri": "https://localhost:8080/"
        },
        "id": "70nL552_et4D",
        "outputId": "445cbd28-96ff-4d12-e49b-6f0bfe8b0da5"
      },
      "execution_count": null,
      "outputs": [
        {
          "output_type": "stream",
          "name": "stdout",
          "text": [
            "======================================\n",
            "     LISTAGEM DE PREÇOS     \n",
            "======================================\n",
            "lapis.........................R$  1.75\n",
            "borracha......................R$   2.0\n",
            "caderno.......................R$  15.9\n",
            "estojo........................R$  25.0\n"
          ]
        }
      ]
    },
    {
      "cell_type": "code",
      "source": [
        "# exercicio 77\n",
        "palavras=('cama', 'chocalate', 'vassora', 'cachorro', 'bolsa', 'mala')\n",
        "for c in palavras:\n",
        "  print(f'\\nNa palavra {c} temos ', end=' ')\n",
        "  for letra in c:\n",
        "    if letra.lower() in'aeiou':\n",
        "      print(letra, end=' ')\n",
        "\n"
      ],
      "metadata": {
        "colab": {
          "base_uri": "https://localhost:8080/"
        },
        "id": "_kK6LrDxh4FH",
        "outputId": "c1675c6f-3fca-434b-8bfc-08bf0de10ec3"
      },
      "execution_count": null,
      "outputs": [
        {
          "output_type": "stream",
          "name": "stdout",
          "text": [
            "\n",
            "Na palavra cama temos  a a \n",
            "Na palavra chocalate temos  o a a e \n",
            "Na palavra vassora temos  a o a \n",
            "Na palavra cachorro temos  a o o \n",
            "Na palavra bolsa temos  o a \n",
            "Na palavra mala temos  a a "
          ]
        }
      ]
    },
    {
      "cell_type": "code",
      "source": [
        "# exercicio 78\n",
        "lista=[]\n",
        "for c in range(0,5):\n",
        "  lista.append(int(input(f'Digite o {c+1} valor: ')))\n",
        "print(lista)\n",
        "maior=max(lista)\n",
        "menor=min(lista)\n",
        "for c in range(0,5):\n",
        "  if maior==lista[c]:\n",
        "    pmaior=c+1\n",
        "  if menor==lista[c]:\n",
        "    pmenor=c+1\n",
        "print(f'O valor maior é {maior} na posição do maior valor é {pmaior}')\n",
        "print(f'O valor menor é {menor} na posição do maior valor é {pmenor}')\n"
      ],
      "metadata": {
        "colab": {
          "base_uri": "https://localhost:8080/"
        },
        "id": "V9GVUn6xDK8t",
        "outputId": "51ddef98-93e3-4f67-d462-7bb9b398551f"
      },
      "execution_count": null,
      "outputs": [
        {
          "output_type": "stream",
          "name": "stdout",
          "text": [
            "Digite o 1 valor: 5\n",
            "Digite o 2 valor: 6\n",
            "Digite o 3 valor: 6\n",
            "Digite o 4 valor: 7\n",
            "Digite o 5 valor: 7\n",
            "[5, 6, 6, 7, 7]\n",
            "O valor maior é 7 na posição do maior valor é 5\n",
            "O valor menor é 5 na posição do maior valor é 1\n"
          ]
        }
      ]
    },
    {
      "cell_type": "code",
      "source": [
        "# exercicio 79\n",
        "lista=[]\n",
        "lista.append(int(input('Digite um valor: ')))\n",
        "print('Valor digitado com sucesso!')\n",
        "q=input('Deseja continuar: [S/N]').upper().strip()[0]\n",
        "while q=='S':\n",
        "  n=(int(input('Digite um valor: ')))\n",
        "  if n not in lista:\n",
        "    lista.append(n)\n",
        "    print('Valor digitado com sucesso!')\n",
        "    q=input('Deseja continuar: [S/N]').upper().strip()[0]\n",
        "  else:\n",
        "    print('valor duplicado. Não vou adicionar: ')\n",
        "    q=input('Deseja continuar: [S/N]').upper().strip()[0]\n",
        "if q=='N':\n",
        "  print(lista)\n",
        "  lista.sort()\n",
        "  print(lista)\n"
      ],
      "metadata": {
        "colab": {
          "base_uri": "https://localhost:8080/"
        },
        "id": "1DvW3BpTs4_o",
        "outputId": "85ead3eb-3c61-4749-c991-f33d1ae96d80"
      },
      "execution_count": null,
      "outputs": [
        {
          "output_type": "stream",
          "name": "stdout",
          "text": [
            "Digite um valor: 5\n",
            "Valor digitado com sucesso!\n",
            "Deseja continuar: [S/N]s\n",
            "Digite um valor: 5\n",
            "valor duplicado. Não vou adicionar: \n",
            "Deseja continuar: [S/N]s\n",
            "Digite um valor: 1\n",
            "Valor digitado com sucesso!\n",
            "Deseja continuar: [S/N]s\n",
            "Digite um valor: 8\n",
            "Valor digitado com sucesso!\n",
            "Deseja continuar: [S/N]s\n",
            "Digite um valor: 2\n",
            "Valor digitado com sucesso!\n",
            "Deseja continuar: [S/N]n\n",
            "[5, 1, 8, 2]\n",
            "[1, 2, 5, 8]\n"
          ]
        }
      ]
    },
    {
      "cell_type": "code",
      "source": [
        "# exercicio 80\n",
        "lista=[]\n",
        "for c in range(0,5):\n",
        "  n=(int(input('Digite um valor: ')))\n",
        "  if c==0 or n>lista[-1]:\n",
        "    lista.append(n)\n",
        "  else:\n",
        "    pos=0\n",
        "    while pos<len(lista):\n",
        "      if n<=lista[pos]:\n",
        "        lista.insert(pos,n)\n",
        "        break\n",
        "      pos+=1  \n",
        "print(lista)"
      ],
      "metadata": {
        "colab": {
          "base_uri": "https://localhost:8080/"
        },
        "id": "QGpJekSIvDNp",
        "outputId": "cf97f353-2f79-4a81-ad52-ae911e1f8967"
      },
      "execution_count": null,
      "outputs": [
        {
          "output_type": "stream",
          "name": "stdout",
          "text": [
            "Digite um valor: 5\n",
            "Digite um valor: 9\n",
            "Digite um valor: 4\n",
            "Digite um valor: 7\n",
            "Digite um valor: 1\n",
            "[1, 4, 5, 7, 9]\n"
          ]
        }
      ]
    },
    {
      "cell_type": "code",
      "source": [
        "# exercicio 81\n",
        "lista=[]\n",
        "count=1\n",
        "lista.append(int(input('Digite um valor: ')))\n",
        "q=input('Deseja continuar: [S/N]').upper().strip()[0]\n",
        "while q=='S':\n",
        "  lista.append(int(input('Digite um valor: ')))\n",
        "  q=input('Deseja continuar: [S/N]').upper().strip()[0]\n",
        "  count+=1\n",
        "if q=='N':\n",
        " print(lista)\n",
        " if 5 in lista:\n",
        "   print('O numero cinco está na lista')\n",
        " else:\n",
        "   print('O numero cinco não está na lista')\n",
        "print(f'Foram diditados {count} numeros') \n",
        "lista.sort(reverse=True)\n",
        "print(f'A ordem decrescente da lista é: {lista}')\n"
      ],
      "metadata": {
        "colab": {
          "base_uri": "https://localhost:8080/"
        },
        "id": "4H2bD1xKSFNL",
        "outputId": "dee38a1d-f1d8-477b-b68e-85414ac94c0e"
      },
      "execution_count": null,
      "outputs": [
        {
          "output_type": "stream",
          "name": "stdout",
          "text": [
            "Digite um valor: 5\n",
            "Deseja continuar: [S/N]s\n",
            "Digite um valor: 6\n",
            "Deseja continuar: [S/N]s\n",
            "Digite um valor: 1\n",
            "Deseja continuar: [S/N]n\n",
            "[5, 6, 1]\n",
            "O numero cinco está na lista\n",
            "Foram diditados 3 numeros\n",
            "A ordem decrescente da lista é: [6, 5, 1]\n"
          ]
        }
      ]
    },
    {
      "cell_type": "code",
      "source": [
        "# exercicio 82\n",
        "lista=[]\n",
        "lista.append(int(input('Digite um valor: ')))\n",
        "q=input('Deseja continuar: [S/N]').upper().strip()[0]\n",
        "while q=='S':\n",
        "  lista.append(int(input('Digite um valor: ')))\n",
        "  q=input('Deseja continuar: [S/N]').upper().strip()[0]\n",
        "if q=='N':\n",
        "  print(f'A lista completa é {lista}')\n",
        "  listapar=[]\n",
        "  listaimpar=[]\n",
        "  for c in range(0, len(lista)):\n",
        "    if lista[c]%2==0:\n",
        "      n=lista[c]\n",
        "      listapar.append(n)\n",
        "    else:\n",
        "      n=lista[c]\n",
        "      listaimpar.append(n)\n",
        "  print(f'A lsita de pares é {listapar}')\n",
        "  print(f'A lista de ímpares é {listaimpar}')"
      ],
      "metadata": {
        "colab": {
          "base_uri": "https://localhost:8080/"
        },
        "id": "PNKAF_qDKpDa",
        "outputId": "b5497cbe-2f6d-48dd-c089-187e57e1bbed"
      },
      "execution_count": null,
      "outputs": [
        {
          "output_type": "stream",
          "name": "stdout",
          "text": [
            "Digite um valor: 1\n",
            "Deseja continuar: [S/N]s\n",
            "Digite um valor: 2\n",
            "Deseja continuar: [S/N]s\n",
            "Digite um valor: 3\n",
            "Deseja continuar: [S/N]s\n",
            "Digite um valor: 4\n",
            "Deseja continuar: [S/N]s\n",
            "Digite um valor: 5\n",
            "Deseja continuar: [S/N]s\n",
            "Digite um valor: 6\n",
            "Deseja continuar: [S/N]n\n",
            "A lista completa é [1, 2, 3, 4, 5, 6]\n",
            "A lsita de pares é [2, 4, 6]\n",
            " A lista de ímpares é [1, 3, 5]\n"
          ]
        }
      ]
    },
    {
      "cell_type": "code",
      "source": [
        "# exercicio 83\n",
        "ex=input('Digite a expressão: ')\n",
        "print(ex)\n",
        "lista=[]\n",
        "count1=0\n",
        "count2=0\n",
        "for c in range(0,len(ex)):\n",
        "  n=ex[c]\n",
        "  lista.append(n)\n",
        "  if n=='(':\n",
        "    count1+=1\n",
        "  elif n==')':\n",
        "    count2+=1\n",
        "if count1!=count2:\n",
        "  print('Sua expressão está errada!')\n",
        "else:\n",
        "  print('Sua expressão está correta!')"
      ],
      "metadata": {
        "colab": {
          "base_uri": "https://localhost:8080/"
        },
        "id": "v3zflLYmb3bQ",
        "outputId": "8e15e186-f464-4975-8c9f-7da157e0116b"
      },
      "execution_count": null,
      "outputs": [
        {
          "output_type": "stream",
          "name": "stdout",
          "text": [
            "Digite a expressão: ((a+b)*(c*d)\n",
            "((a+b)*(c*d)\n",
            "['(', '(', 'a', '+', 'b', ')', '*', '(', 'c', '*', 'd', ')']\n",
            "Sua expressão está errada!\n"
          ]
        }
      ]
    },
    {
      "cell_type": "code",
      "source": [
        "# exercicio 84\n",
        "lista=list()\n",
        "dado=list()\n",
        "maiorpeso=0\n",
        "menorpeso=0\n",
        "while True:\n",
        "  nome=input('Nome: ')\n",
        "  peso=float(input('Peso:'))\n",
        "  dado.append(nome)\n",
        "  dado.append(peso)\n",
        "  if len(lista)==0:\n",
        "    maiorpeso=peso\n",
        "    menorpeso=peso\n",
        "  else:\n",
        "    if peso>maiorpeso:\n",
        "      maiorpeso=peso\n",
        "    if peso<menorpeso:\n",
        "      menorpeso=peso\n",
        "  lista.append(dado[:])\n",
        "  dado.clear() \n",
        "  q=input('Deseja continuar: [S/N]').upper().strip()[0]\n",
        "  if q in 'Nn':\n",
        "    break\n",
        "print(f'Ao todo você cadastrou {len(lista)} pessoas')\n",
        "print(f'O maior peso foi de {maiorpeso}Kg. Peso de ', end='')\n",
        "for p in lista:\n",
        "  if p[1]==maiorpeso:\n",
        "    print(f'{p[0]} ', end='')\n",
        "print()\n",
        "print(f'O menor peso foi de {menorpeso}Kg. Peso de ', end='')\n",
        "for p in lista:\n",
        "  if p[1]==menorpeso:\n",
        "    print(f'{p[0]} ', end='')\n",
        "print()\n",
        "print(f'A lista completa é {lista}')"
      ],
      "metadata": {
        "colab": {
          "base_uri": "https://localhost:8080/"
        },
        "id": "RnWKzvT3emjG",
        "outputId": "526b1ef8-cde4-4db6-f35e-27f533b9fade"
      },
      "execution_count": null,
      "outputs": [
        {
          "output_type": "stream",
          "name": "stdout",
          "text": [
            "Nome: chris\n",
            "Peso:70\n",
            "Deseja continuar: [S/N]s\n",
            "Nome: maria\n",
            "Peso:77\n",
            "Deseja continuar: [S/N]s\n",
            "Nome: tiny\n",
            "Peso:80\n",
            "Deseja continuar: [S/N]n\n",
            "Ao todo você cadastrou 3 pessoas\n",
            "O maior peso foi de 80.0Kg. Peso de tiny \n",
            "O menor peso foi de 70.0Kg. Peso de chris \n",
            "A lista completa é [['chris', 70.0], ['maria', 77.0], ['tiny', 80.0]]\n"
          ]
        }
      ]
    },
    {
      "cell_type": "code",
      "source": [
        "# exercicio 85\n",
        "lista=list()\n",
        "dado=list()\n",
        "dadoimpar=list()\n",
        "dadopar=list()\n",
        "for c in range(0,7):\n",
        "  n=int(input(f'Digite {c+1}º valor: '))\n",
        "  if n%2==0:\n",
        "    dadopar.append(n)\n",
        "  else:\n",
        "    dadoimpar.append(n)\n",
        "lista.append(dadoimpar[:])\n",
        "lista.append(dadopar[:])\n",
        "lista[0].sort()\n",
        "lista[1].sort()\n",
        "print(f'numeros pares são {lista[1]}')\n",
        "print(f'numeros impares são {lista[0]}')\n",
        "print(lista)\n"
      ],
      "metadata": {
        "colab": {
          "base_uri": "https://localhost:8080/"
        },
        "id": "j45dXZZPsX6-",
        "outputId": "13fd182a-6818-483c-e304-98ee19a8289f"
      },
      "execution_count": null,
      "outputs": [
        {
          "output_type": "stream",
          "name": "stdout",
          "text": [
            "Digite 1º valor: 2\n",
            "Digite 2º valor: 5\n",
            "Digite 3º valor: 3\n",
            "Digite 4º valor: 6\n",
            "Digite 5º valor: 4\n",
            "Digite 6º valor: 1\n",
            "Digite 7º valor: 7\n",
            "numeros pares são [2, 4, 6]\n",
            "numeros impares são [1, 3, 5, 7]\n",
            "[[1, 3, 5, 7], [2, 4, 6]]\n"
          ]
        }
      ]
    },
    {
      "cell_type": "code",
      "source": [
        "# exercicio 86\n",
        "matriz=list()\n",
        "dado=list()\n",
        "dado1=list()\n",
        "dado2=list()\n",
        "for c in range(0,3):\n",
        "  for d in range(0,3):\n",
        "    n=int(input(f'Digite uma valor para [{c},{d}]: '))\n",
        "    if c==0:\n",
        "      dado.append(n)\n",
        "    if c==1:\n",
        "      dado1.append(n)\n",
        "    if c==2:\n",
        "      dado2.append(n)\n",
        "matriz.append(dado[:])\n",
        "matriz.append(dado1[:])\n",
        "matriz.append(dado2[:])\n",
        "print(f'[ {matriz[0][0]} ] [ {matriz[0][1]} ] [ {matriz[0][2]} ]')\n",
        "print(f'[ {matriz[1][0]} ] [ {matriz[1][1]} ] [ {matriz[1][2]} ]')\n",
        "print(f'[ {matriz[2][0]} ] [ {matriz[2][1]} ] [ {matriz[2][2]} ]')\n"
      ],
      "metadata": {
        "colab": {
          "base_uri": "https://localhost:8080/"
        },
        "id": "tj3DT_g22L2E",
        "outputId": "8092b419-93b9-44a5-85ee-ffed0e410d0c"
      },
      "execution_count": null,
      "outputs": [
        {
          "output_type": "stream",
          "name": "stdout",
          "text": [
            "Digite uma valor para [0,0]: 1\n",
            "Digite uma valor para [0,1]: 2\n",
            "Digite uma valor para [0,2]: 3\n",
            "Digite uma valor para [1,0]: 4\n",
            "Digite uma valor para [1,1]: 5\n",
            "Digite uma valor para [1,2]: 6\n",
            "Digite uma valor para [2,0]: 7\n",
            "Digite uma valor para [2,1]: 8\n",
            "Digite uma valor para [2,2]: 9\n",
            "[ 1 ] [ 2 ] [ 3 ]\n",
            "[ 4 ] [ 5 ] [ 6 ]\n",
            "[ 7 ] [ 8 ] [ 9 ]\n"
          ]
        }
      ]
    },
    {
      "cell_type": "code",
      "source": [
        "# exercicio 87\n",
        "matriz=list()\n",
        "dado=list()\n",
        "dado1=list()\n",
        "dado2=list()\n",
        "soma=0\n",
        "maiorvalor=0\n",
        "for c in range(0,3):\n",
        "  for d in range(0,3):\n",
        "    n=int(input(f'Digite uma valor para [{c},{d}]: '))\n",
        "    if n%2==0:\n",
        "      soma=soma+n\n",
        "    if c==0:\n",
        "      dado.append(n)\n",
        "    if c==1:\n",
        "      dado1.append(n)\n",
        "      if n>maiorvalor:\n",
        "        maiorvalor=n\n",
        "    if c==2:\n",
        "      dado2.append(n)\n",
        "matriz.append(dado[:])\n",
        "matriz.append(dado1[:])\n",
        "matriz.append(dado2[:])\n",
        "print(f'[ {matriz[0][0]} ] [ {matriz[0][1]} ] [ {matriz[0][2]} ]')\n",
        "print(f'[ {matriz[1][0]} ] [ {matriz[1][1]} ] [ {matriz[1][2]} ]')\n",
        "print(f'[ {matriz[2][0]} ] [ {matriz[2][1]} ] [ {matriz[2][2]} ]')\n",
        "print(f'A soma dos valores pares é {soma}')\n",
        "print(f'A soma da terceira coluna é {(matriz[0][2])+(matriz[1][2])+(matriz[2][2])}')\n",
        "print(f'O maior valor da segunda linha é {maiorvalor}')\n",
        "\n"
      ],
      "metadata": {
        "colab": {
          "base_uri": "https://localhost:8080/"
        },
        "id": "CITFt9Yy-uf4",
        "outputId": "0ee9f300-47b7-4ca3-bec6-00cdd14faa45"
      },
      "execution_count": null,
      "outputs": [
        {
          "output_type": "stream",
          "name": "stdout",
          "text": [
            "Digite uma valor para [0,0]: 1\n",
            "Digite uma valor para [0,1]: 2\n",
            "Digite uma valor para [0,2]: 3\n",
            "Digite uma valor para [1,0]: 4\n",
            "Digite uma valor para [1,1]: 5\n",
            "Digite uma valor para [1,2]: 6\n",
            "Digite uma valor para [2,0]: 7\n",
            "Digite uma valor para [2,1]: 8\n",
            "Digite uma valor para [2,2]: 9\n",
            "[ 1 ] [ 2 ] [ 3 ]\n",
            "[ 4 ] [ 5 ] [ 6 ]\n",
            "[ 7 ] [ 8 ] [ 9 ]\n",
            "A soma dos valores pares é 20\n",
            "A soma da terceira coluna é 18\n",
            "O maior valor da segunda linha é 6\n"
          ]
        }
      ]
    },
    {
      "cell_type": "code",
      "source": [
        "# exercicio 88\n",
        "import random\n",
        "print('='*30)\n",
        "print('       JOGO NA MEGA SENA   ')\n",
        "print('='*30)\n",
        "n=int(input('Quantos jogos você quer que eu sorteie?  '))\n",
        "print(f'========SORTEANDO {n} JOGOS======')\n",
        "jogo=list()\n",
        "dado=list()\n",
        "for c in range(0,n):\n",
        "  dado.append(random.sample(range(1,60),6))\n",
        "  jogo.append(dado[:])\n",
        "  dado.clear()\n",
        "  print(f'jogo {c+1}: {jogo[c]}')\n",
        "print('==========< Boa Sorte !>===========')"
      ],
      "metadata": {
        "colab": {
          "base_uri": "https://localhost:8080/"
        },
        "id": "mYwwYYz_Qh7n",
        "outputId": "566b54e6-4578-4073-b4ad-5d0f55addde2"
      },
      "execution_count": null,
      "outputs": [
        {
          "output_type": "stream",
          "name": "stdout",
          "text": [
            "==============================\n",
            "       JOGO NA MEGA SENA   \n",
            "==============================\n",
            "Quantos jogos você quer que eu sorteie?  4\n",
            "========SORTEANDO 4 JOGOS======\n",
            "jogo 1: [[4, 55, 13, 46, 50, 27]]\n",
            "jogo 2: [[36, 20, 37, 1, 56, 29]]\n",
            "jogo 3: [[41, 43, 25, 33, 24, 31]]\n",
            "jogo 4: [[16, 2, 48, 54, 58, 35]]\n",
            "==========< Boa Sorte !>===========\n"
          ]
        }
      ]
    },
    {
      "cell_type": "code",
      "source": [
        "# exercicio 89\n",
        "boletim=list()\n",
        "notas=list()\n",
        "dado=list()\n",
        "dado2=list()\n",
        "nome=input('Nome: ')\n",
        "nota1=float(input('Nota1:'))\n",
        "nota2=float(input('Nota2: '))\n",
        "media=(nota1+nota2)/2\n",
        "dado.append(nome)\n",
        "dado.append(media)\n",
        "dado2.append(nota1)\n",
        "dado2.append(nota2)\n",
        "notas.append(dado2[:])\n",
        "boletim.append(dado[:])\n",
        "dado.clear()\n",
        "dado2.clear()\n",
        "count=1\n",
        "q=input('Deseja continuar: [S/N]').upper().strip()[0]\n",
        "while q=='S':\n",
        "  nome=input('Nome: ')\n",
        "  nota1=float(input('Nota1:'))\n",
        "  nota2=float(input('Nota2: '))\n",
        "  dado2.append(nota1)\n",
        "  dado2.append(nota2)\n",
        "  media=(nota1+nota2)/2\n",
        "  dado.append(nome)\n",
        "  dado.append(media)\n",
        "  boletim.append(dado[:])\n",
        "  notas.append(dado2[:])\n",
        "  dado.clear()\n",
        "  dado2.clear()\n",
        "  count+=1\n",
        "  q=input('Deseja continuar: [S/N]').upper().strip()[0]\n",
        "if q=='N':\n",
        "  print(boletim)\n",
        "  print('=============================')\n",
        "  print('No.    NOME       MÉDIA      ')\n",
        "  print('=============================')\n",
        "  for c in range(0, count):\n",
        "     print(f' {c:<5}  {boletim[c][0]}    {boletim[c][1]:>5}')\n",
        "  n=int(input('Mostrar notas de qual aluno? [999 para interrompe]: '))\n",
        "  print(f'Notas de {boletim[n][0]} são {notas[n]} ')\n",
        "  while n!=999:\n",
        "    n=int(input('Mostrar notas de qual aluno? [999 para interrompe]: '))\n",
        "    if n<=count:    \n",
        "      print(f'Notas de {boletim[n][0]} são {notas[n]} ')\n",
        "    else:\n",
        "      print('numero invalido!')\n",
        "  if n==999:\n",
        "     print('Finalizando!!')\n",
        "     print('Volte sempre !!!')\n",
        "  "
      ],
      "metadata": {
        "colab": {
          "base_uri": "https://localhost:8080/"
        },
        "id": "52NWza8Re7Im",
        "outputId": "e33daed7-4dab-4c63-eb36-92cc9dcbc622"
      },
      "execution_count": null,
      "outputs": [
        {
          "output_type": "stream",
          "name": "stdout",
          "text": [
            "Nome: chris\n",
            "Nota1:7\n",
            "Nota2: 8\n",
            "Deseja continuar: [S/N]s\n",
            "Nome: maria\n",
            "Nota1:8.5\n",
            "Nota2: 4.3\n",
            "Deseja continuar: [S/N]s\n",
            "Nome: isa\n",
            "Nota1:3.9\n",
            "Nota2: 7.8\n",
            "Deseja continuar: [S/N]n\n",
            "[['chris', 7.5], ['maria', 6.4], ['isa', 5.85]]\n",
            "=============================\n",
            "No.    NOME       MÉDIA      \n",
            "=============================\n",
            " 1      chris      7.5\n",
            " 2      maria      6.4\n",
            " 3      isa     5.85\n",
            "Mostrar notas de qual aluno? [999 para interrompe]: 1\n",
            "Notas de maria são [8.5, 4.3] \n",
            "Mostrar notas de qual aluno? [999 para interrompe]: 999\n",
            "numero invalido!\n",
            "Finalizando!!\n",
            "Volte sempre !!!\n"
          ]
        }
      ]
    },
    {
      "cell_type": "code",
      "source": [
        "# exercicio 90\n",
        "aluno=dict()\n",
        "aluno['nome']=input('Nome: ')\n",
        "aluno['media']=float(input('Média: '))\n",
        "print(f'Nome é igual a {aluno[\"nome\"]}')\n",
        "print(f'Média é igual a {aluno[\"media\"]}')\n",
        "if aluno['media']>=7:\n",
        "  print('Situação é igual a Aprovado. ')\n",
        "else:\n",
        "  print('Situação é igual a Reprovado.')\n",
        "print(aluno)"
      ],
      "metadata": {
        "colab": {
          "base_uri": "https://localhost:8080/"
        },
        "id": "X_5vCm4jDVN-",
        "outputId": "99c24f74-5411-4093-d493-bd9adc8801a8"
      },
      "execution_count": null,
      "outputs": [
        {
          "output_type": "stream",
          "name": "stdout",
          "text": [
            "Nome: chris\n",
            "Média: 7.5\n",
            "Nome é igual a chris\n",
            "Média é igual a 7.5\n",
            "Situação é igual a Aprovado. \n",
            "{'nome': 'chris', 'media': 7.5}\n"
          ]
        }
      ]
    },
    {
      "cell_type": "code",
      "source": [
        "# exercicio 91 \n",
        "from random import randint\n",
        "import time\n",
        "jogo=dict()\n",
        "resultado=list()\n",
        "for c in range(0,4):\n",
        "  jogo['jogador']=c+1\n",
        "  jogo['dado']=randint(1,6)   \n",
        "  print(f' O jogador {c+1} tirou {jogo[\"dado\"]}')\n",
        "  time.sleep(1)\n",
        "  resultado.append(jogo.copy())\n",
        "print('Ranking dos jogadores:')\n",
        "ordenar =  sorted(resultado, key=lambda row:row['dado'] , reverse=1 )\n",
        "for c in range(0,4):\n",
        " print(f'O {c+1}º lugar: Jogador {ordenar[c][\"jogador\"]} com {ordenar[c][\"dado\"]}')\n",
        " time.sleep(1)\n"
      ],
      "metadata": {
        "colab": {
          "base_uri": "https://localhost:8080/"
        },
        "id": "gIGfPwYGMaWn",
        "outputId": "8e544e0a-6e4b-4391-c0c4-47a23d8799d1"
      },
      "execution_count": null,
      "outputs": [
        {
          "output_type": "stream",
          "name": "stdout",
          "text": [
            " O jogador 1 tirou 2\n",
            " O jogador 2 tirou 3\n",
            " O jogador 3 tirou 2\n",
            " O jogador 4 tirou 5\n",
            "Ranking dos jogadores:\n",
            "O 1º lugar: Jogador 4 com 5\n",
            "O 2º lugar: Jogador 2 com 3\n",
            "O 3º lugar: Jogador 1 com 2\n",
            "O 4º lugar: Jogador 3 com 2\n"
          ]
        }
      ]
    },
    {
      "cell_type": "code",
      "source": [
        "# exercicio 92\n",
        "from datetime import date\n",
        "atual = date.today().year\n",
        "cadastro=dict()\n",
        "cadastro['nome']=input('Nome: ')\n",
        "ano=int(input('Data de nascimento: '))\n",
        "cadastro['idade']=atual-ano\n",
        "cadastro['CTPS']=int(input('Numero da carteira de nascimento (0 não tem): '))\n",
        "if cadastro['CTPS']>0:\n",
        "  cadastro['contratação']=int(input('Ano de contratação: '))\n",
        "  cadastro['salario']=float(input('Salário: '))\n",
        "  cadastro['Aposentadoria']=(cadastro['contratação']+30-atual)\n",
        "print('=========================')\n",
        "print(cadastro)\n",
        "for k,v in cadastro.items():\n",
        "  print(f'O {k} tem valor {v}')\n",
        "\n"
      ],
      "metadata": {
        "id": "D_RbIrJCP_Vq",
        "colab": {
          "base_uri": "https://localhost:8080/"
        },
        "outputId": "a2caa8bd-b5fc-42aa-9440-fb07fbef1297"
      },
      "execution_count": null,
      "outputs": [
        {
          "output_type": "stream",
          "name": "stdout",
          "text": [
            "Nome: chris\n",
            "Data de nascimento: 1983\n",
            "Numero da carteira de nascimento (0 não tem): 123\n",
            "Ano de contratação: 2013\n",
            "Salário: 1000\n",
            "=========================\n",
            "{'nome': 'chris', 'idade': 39, 'CTPS': 123, 'contratação': 2013, 'salario': 1000.0, 'Aposentadoria': 21}\n",
            "O nome tem valor chris\n",
            "O idade tem valor 39\n",
            "O CTPS tem valor 123\n",
            "O contratação tem valor 2013\n",
            "O salario tem valor 1000.0\n",
            "O Aposentadoria tem valor 21\n"
          ]
        }
      ]
    },
    {
      "cell_type": "code",
      "source": [
        "# exercicio 93\n",
        "jogador=dict()\n",
        "jogador['nome']=input('Nome do Jogador: ')\n",
        "partida=int(input(f'Quantas partidas o {jogador[\"nome\"]} jogou? '))\n",
        "jogador['gols']=list()\n",
        "dado=list()\n",
        "soma=0\n",
        "for c in range(0,partida):\n",
        "  n=int(input(f'Quantos gols na partida {c}? ')) \n",
        "  soma=soma+n\n",
        "  dado.append(n)\n",
        "  jogador['gols'].append(dado[:])\n",
        "  dado.clear()\n",
        "  jogador['total']=soma\n",
        "print('==============================================')\n",
        "print(jogador)\n",
        "print('==============================================')\n",
        "for k,v in jogador.items():\n",
        "  print(f'O campo {k} tem o valor {v}. ')\n",
        "print('==============================================')\n",
        "print(f'O jogador {jogador[\"nome\"]} jogou {partida} partidas. ')\n",
        "for c in range(0,partida):\n",
        "  print(f'=> Na partida {c}, fez {jogador[\"gols\"][c]} gols.')\n",
        "print(f'Foi um total de {jogador[\"total\"]} gols.')\n"
      ],
      "metadata": {
        "colab": {
          "base_uri": "https://localhost:8080/"
        },
        "id": "s2InaET5Bp03",
        "outputId": "cd5cafb8-702d-4a4b-cc2f-b7ec0fb989e3"
      },
      "execution_count": null,
      "outputs": [
        {
          "output_type": "stream",
          "name": "stdout",
          "text": [
            "Nome do Jogador: fabio\n",
            "Quantas partidas o fabio jogou? 3\n",
            "Quantos gols na partida 0? 2\n",
            "[2]\n",
            "Quantos gols na partida 1? 3\n",
            "[3]\n",
            "Quantos gols na partida 2? 4\n",
            "[4]\n",
            "==============================================\n",
            "{'nome': 'fabio', 'gols': [[2], [3], [4]], 'total': 9}\n",
            "==============================================\n",
            "O campo nome tem o valor fabio. \n",
            "O campo gols tem o valor [[2], [3], [4]]. \n",
            "O campo total tem o valor 9. \n",
            "==============================================\n",
            "O jogador fabio jogou 3 partidas. \n",
            "=> Na partida 0, fez [2] gols.\n",
            "=> Na partida 1, fez [3] gols.\n",
            "=> Na partida 2, fez [4] gols.\n",
            "Foi um total de 9 gols.\n"
          ]
        }
      ]
    },
    {
      "cell_type": "code",
      "source": [
        "# exercicio 94\n",
        "lista=list()\n",
        "dado=list()\n",
        "dicionario=dict()\n",
        "media=0\n",
        "mulheres=list()\n",
        "m=0\n",
        "while True:\n",
        "  dicionario['nome']=input('Nome: ')\n",
        "  dicionario['sexo']=input('Sexo: [M/F] ').upper().strip()[0]\n",
        "  if dicionario['sexo']=='F':\n",
        "    m=m+1\n",
        "    mulheres.append(dicionario['nome'])\n",
        "  dicionario['idade']=int(input('Idade: '))\n",
        "  media=media+dicionario['idade']\n",
        "  q=input('Deseja continuar: [S/N]').upper().strip()[0]\n",
        "  dado.append(dicionario.copy())\n",
        "  lista.append(dado[:])\n",
        "  dado.clear()\n",
        "  if q in 'Nn':\n",
        "    break\n",
        "print('==============================================')\n",
        "print(f'O grupo tem {len(lista)} pessoas.')\n",
        "media=media/len(lista)\n",
        "print(f'A media de idade é de {media} anos.')\n",
        "if m==0:\n",
        "  print('Não houve mulheres cadastradas.')\n",
        "else:\n",
        "  print(f'As mulheres cadastradas foram: {mulheres}')\n",
        "print('lista das pessoas que estão acima da media:')\n",
        "for p in lista:\n",
        "  if p[0]['idade']>media:\n",
        "    print(f'{p[0]}')\n",
        "print()\n",
        "print(lista)\n"
      ],
      "metadata": {
        "colab": {
          "base_uri": "https://localhost:8080/"
        },
        "id": "IEwJ5hOnHoa4",
        "outputId": "ae480e94-1952-46e3-9468-2c6ae516abb1"
      },
      "execution_count": null,
      "outputs": [
        {
          "output_type": "stream",
          "name": "stdout",
          "text": [
            "Nome: chris\n",
            "Sexo: [M/F] f\n",
            "Idade: 39\n",
            "Deseja continuar: [S/N]s\n",
            "Nome: bela\n",
            "Sexo: [M/F] f\n",
            "Idade: 6\n",
            "Deseja continuar: [S/N]s\n",
            "Nome: nylson\n",
            "Sexo: [M/F] m\n",
            "Idade: 44\n",
            "Deseja continuar: [S/N]s\n",
            "Nome: dora\n",
            "Sexo: [M/F] f\n",
            "Idade: 3\n",
            "Deseja continuar: [S/N]n\n",
            "==============================================\n",
            "O grupo tem 4 pessoas.\n",
            "A media de idade é de 23.0 anos.\n",
            "As mulheres cadastradas foram: ['chris', 'bela', 'dora']\n",
            "lista das pessoas que estão acima da media:\n",
            "{'nome': 'chris', 'sexo': 'F', 'idade': 39}\n",
            "{'nome': 'nylson', 'sexo': 'M', 'idade': 44}\n",
            "\n",
            "[[{'nome': 'chris', 'sexo': 'F', 'idade': 39}], [{'nome': 'bela', 'sexo': 'F', 'idade': 6}], [{'nome': 'nylson', 'sexo': 'M', 'idade': 44}], [{'nome': 'dora', 'sexo': 'F', 'idade': 3}]]\n"
          ]
        }
      ]
    },
    {
      "cell_type": "code",
      "source": [
        "# exercicio 96\n",
        "print('Controle de terrenos')\n",
        "print('====================')\n",
        "l=float(input('LARGURA (m): '))\n",
        "c=float(input('COMPRIMENTO (m): '))\n",
        "\n",
        "def area(l,c):\n",
        "  area=l*c\n",
        "  print(f'A area de um terreno {l} x {c} é de {area} m² ')\n",
        "\n",
        "area(l,c)"
      ],
      "metadata": {
        "colab": {
          "base_uri": "https://localhost:8080/"
        },
        "id": "neaURArODcFS",
        "outputId": "0bb4948e-c021-4bfc-828e-836493554a31"
      },
      "execution_count": null,
      "outputs": [
        {
          "output_type": "stream",
          "name": "stdout",
          "text": [
            "Controle de terrenos\n",
            "====================\n",
            "LARGURA (m): 4.5\n",
            "COMPRIMENTO (m): 8\n",
            "A area de um terreno 4.5 x 8.0 é de 36.0 \n"
          ]
        }
      ]
    },
    {
      "cell_type": "code",
      "source": [
        "# exercicio 97\n",
        "\n",
        "def frase(frase):\n",
        "  print('='*len(frase))\n",
        "  print(frase)\n",
        "  print('='*len(frase))\n",
        "\n",
        "frase(input('Escreva: '))"
      ],
      "metadata": {
        "colab": {
          "base_uri": "https://localhost:8080/"
        },
        "id": "elYCvHw8Migt",
        "outputId": "0a374478-f129-4615-c26e-b90fbd13ecea"
      },
      "execution_count": null,
      "outputs": [
        {
          "output_type": "stream",
          "name": "stdout",
          "text": [
            "Escreva: eu sou linda e educada\n",
            "======================\n",
            "eu sou linda e educada\n",
            "======================\n"
          ]
        }
      ]
    },
    {
      "cell_type": "code",
      "source": [
        "# exercicio 98\n",
        "import time\n",
        "def contador(i,f,p):\n",
        "  if p<0:\n",
        "    p=p*(-1)\n",
        "  if p==0:\n",
        "    p=1\n",
        "  print('==================================')\n",
        "  print(f'Contagem de {i} até {f} de {p} em {p}')\n",
        "  time.sleep(1)\n",
        "\n",
        "  if i<f:\n",
        "    cont=1\n",
        "    while cont<=f:\n",
        "      print(f'{cont}',end=' ', flush=True)\n",
        "      time.sleep(1)\n",
        "      cont+=p\n",
        "    print('FIM!')\n",
        "  else:\n",
        "    cont=i\n",
        "    while cont>=f:\n",
        "      print(f'{cont}',end=' ', flush=True)\n",
        "      time.sleep(1)\n",
        "      cont-=p\n",
        "    print('FIM!')\n",
        "\n",
        "contador(1,10,1)\n",
        "contador(10,0,2)\n",
        "print('Agora é a sua vez de personalizar a contagem!')\n",
        "i=int(input('Inicio: '))\n",
        "f=int(input('Fim: '))\n",
        "p=int(input('Passo: '))\n",
        "contador(i,f,p)"
      ],
      "metadata": {
        "colab": {
          "base_uri": "https://localhost:8080/"
        },
        "id": "4Gt5ChhUZ2oS",
        "outputId": "d16cde3a-3e43-4d70-cba0-12f099035ec1"
      },
      "execution_count": null,
      "outputs": [
        {
          "output_type": "stream",
          "name": "stdout",
          "text": [
            "==================================\n",
            "Contagem de 1 até 10 de 1 em 1\n",
            "12345678910FIM!\n",
            "==================================\n",
            "Contagem de 10 até 0 de 2 em 2\n",
            "1086420FIM!\n",
            "Agora é a sua vez de personalizar a contagem!\n",
            "Inicio: 1\n",
            "Fim: 10\n",
            "Passo: 3\n",
            "==================================\n",
            "Contagem de 1 até 10 de 3 em 3\n",
            "14710FIM!\n"
          ]
        }
      ]
    },
    {
      "cell_type": "code",
      "source": [
        "# exercicio 99\n",
        "def maior(*num):\n",
        "  print('Analisando os valores passados....')\n",
        "  print(num, f'Foram informados {len(num)} valores ao todo.')\n",
        "  print(f'O maior valor informado foi {max(num)}')\n",
        "\n",
        "maior(-5,-8,-6)\n",
        "maior(6,7,8,88,65,52,45,62)\n",
        "maior(1,3,5)\n",
        "maior(3,2)\n",
        "  "
      ],
      "metadata": {
        "colab": {
          "base_uri": "https://localhost:8080/"
        },
        "id": "A3VBpPUVdwQk",
        "outputId": "5c22c51c-c9e4-4185-ea65-c7a3d6da9e2e"
      },
      "execution_count": null,
      "outputs": [
        {
          "output_type": "stream",
          "name": "stdout",
          "text": [
            "Analisando os valores passados....\n",
            "(-5, -8, -6) Foram informados 3 valores ao todo.\n",
            "O maior valor informado foi -5\n",
            "Analisando os valores passados....\n",
            "(6, 7, 8, 88, 65, 52, 45, 62) Foram informados 8 valores ao todo.\n",
            "O maior valor informado foi 88\n",
            "Analisando os valores passados....\n",
            "(1, 3, 5) Foram informados 3 valores ao todo.\n",
            "O maior valor informado foi 5\n",
            "Analisando os valores passados....\n",
            "(3, 2) Foram informados 2 valores ao todo.\n",
            "O maior valor informado foi 3\n"
          ]
        }
      ]
    },
    {
      "cell_type": "code",
      "source": [
        "# exercicio 100\n",
        "from random import randint\n",
        "def sorteio(lista):\n",
        "  for c in range(0,5):\n",
        "    lista.append(randint(0,10))\n",
        "  print(f'Sorteando 5 valores da lista: {lista}')\n",
        "\n",
        "def somar(lista):\n",
        "  par=list()\n",
        "  soma=0\n",
        "  for c in lista:\n",
        "    if c%2==0:\n",
        "      par.append(c)\n",
        "      soma=soma+c\n",
        "  print(f'Somando os valores pares de {par}, temos {soma}')\n",
        "\n",
        "numeros=list()\n",
        "sorteio(numeros)\n",
        "somar(numeros)\n"
      ],
      "metadata": {
        "colab": {
          "base_uri": "https://localhost:8080/"
        },
        "id": "VHe9b6hyIlWe",
        "outputId": "7b4998fd-80c2-438d-b298-3cf9ee58d21d"
      },
      "execution_count": null,
      "outputs": [
        {
          "output_type": "stream",
          "name": "stdout",
          "text": [
            "Sorteando 5 valores da lista: [7, 9, 5, 10, 6]\n",
            "Somando os valores pares de [10, 6], temos 16\n"
          ]
        }
      ]
    },
    {
      "cell_type": "code",
      "source": [
        "# exercicio 101\n",
        "from datetime import date\n",
        "atual = date.today().year\n",
        "def voto(ano):\n",
        "  idade=atual-ano\n",
        "  if idade>=18 and idade<65:\n",
        "    print(f'Com {idade} anos: voto obrigatório! ')\n",
        "  elif idade<16:\n",
        "    print(f'Com {idade} anos: voto negado!')\n",
        "  elif idade>=65 or idade>=16 or idade<18:\n",
        "    print(f'Com {idade} anos: voto opcional!')\n",
        "\n",
        "ano=int(input('Em que ano você nesceu? '))\n",
        "voto(ano)\n"
      ],
      "metadata": {
        "colab": {
          "base_uri": "https://localhost:8080/"
        },
        "id": "wlf_vnPo6ULd",
        "outputId": "581fd281-c02d-4a9d-d37c-ac552bfc3008"
      },
      "execution_count": null,
      "outputs": [
        {
          "output_type": "stream",
          "name": "stdout",
          "text": [
            "Em que ano você nesceu? 2005\n",
            "Com 17 anos: voto opcional!\n"
          ]
        }
      ]
    },
    {
      "cell_type": "code",
      "source": [
        "# exercicio 102\n",
        "def fatorial(n,show=False):\n",
        "  f=1\n",
        "  if show==True:\n",
        "    for c in range(n,0,-1):\n",
        "      f*=c  \n",
        "    print(f'{n}', end=' ')\n",
        "    for c in range(n-1,0,-1):\n",
        "      print(f'* {c}',end=' ')\n",
        "    print(f'= {f}', end=' ')\n",
        "  else:\n",
        "    for c in range(n,0,-1):\n",
        "      f*=c  \n",
        "    return f\n",
        "\n",
        "fatorial(7,show=True)"
      ],
      "metadata": {
        "colab": {
          "base_uri": "https://localhost:8080/"
        },
        "id": "QrchKtooED83",
        "outputId": "1a8c99c1-a930-4ab5-d2ff-4f61cbf1c4b0"
      },
      "execution_count": null,
      "outputs": [
        {
          "output_type": "stream",
          "name": "stdout",
          "text": [
            "7 * 6 * 5 * 4 * 3 * 2 * 1 = 5040 "
          ]
        }
      ]
    },
    {
      "cell_type": "code",
      "source": [
        "# exercicio 103\n",
        "def ficha(nome='', n=''):\n",
        "  if nome=='' and n!='':\n",
        "    print(f'O jogador desconhecido fez {n} gol(s) no campeonato.')\n",
        "  if n=='':\n",
        "    print(f'O jogador desconhecido fez 0 gol(s) no campeonato.')\n",
        "  if nome!='' and n!='':\n",
        "    print(f'O jogador {nome} fez {n} gol(s) no campeonato.')\n",
        "  \n",
        "\n",
        "nome=input('Nome:')\n",
        "n=(input('Numero de gols: '))\n",
        "ficha(nome,n)\n"
      ],
      "metadata": {
        "colab": {
          "base_uri": "https://localhost:8080/"
        },
        "id": "L58WLS2eJRhB",
        "outputId": "220b42db-0cf7-43d5-bb2c-4ad7454ddf7e"
      },
      "execution_count": null,
      "outputs": [
        {
          "output_type": "stream",
          "name": "stdout",
          "text": [
            "Nome:0\n",
            "Numero de gols: 0\n",
            "O jogador 0 fez 0 gol(s) no campeonato.\n"
          ]
        }
      ]
    },
    {
      "cell_type": "code",
      "source": [
        "# exercicio 104\n",
        "def leiaInt(n):\n",
        "  n=input(n)\n",
        "  if n.isnumeric():\n",
        "    n=int(n)\n",
        "    print(f'você digitou o numero {n}')\n",
        "  else:\n",
        "    print('ERRO! Digite novamente. ')\n",
        " \n",
        "n=leiaInt('Digite um numero inteiro:')\n",
        "\n"
      ],
      "metadata": {
        "colab": {
          "base_uri": "https://localhost:8080/"
        },
        "id": "Ico5lmjSM01m",
        "outputId": "edd72167-cd39-404c-a0ae-a095ff3c935b"
      },
      "execution_count": null,
      "outputs": [
        {
          "output_type": "stream",
          "name": "stdout",
          "text": [
            "Digite um numero inteiro:    \n",
            "ERRO! Digite novamente. \n"
          ]
        }
      ]
    },
    {
      "cell_type": "code",
      "source": [
        "# exercico 105\n",
        "def notas(*num):\n",
        "  resumo=dict()\n",
        "  cont=len(num)\n",
        "  resumo['total']=cont\n",
        "  resumo['maior']=max(num)\n",
        "  resumo['menor']=min(num)\n",
        "  resumo['media']=sum(num)/cont\n",
        "  return resumo\n",
        "\n",
        "resp=notas(5.5,6.8,7,8,2.5,3.5)\n",
        "print(resp)"
      ],
      "metadata": {
        "colab": {
          "base_uri": "https://localhost:8080/"
        },
        "id": "IZdUcMWlXluh",
        "outputId": "230cba81-514c-4c8d-bdee-9fa0d5cac9bf"
      },
      "execution_count": null,
      "outputs": [
        {
          "output_type": "stream",
          "name": "stdout",
          "text": [
            "{'total': 6, 'maior': 8, 'menor': 2.5, 'media': 5.55}\n"
          ]
        }
      ]
    },
    {
      "cell_type": "code",
      "source": [
        " num = [2, 8, 4, 7]\n",
        " num.pop()\n",
        " num.insert(1, 3)\n",
        " num.append(6)\n",
        " print(num)"
      ],
      "metadata": {
        "id": "JAyFEddq8BeZ",
        "colab": {
          "base_uri": "https://localhost:8080/"
        },
        "outputId": "39109be0-2691-4e82-dd14-62b8304a4d01"
      },
      "execution_count": null,
      "outputs": [
        {
          "output_type": "stream",
          "name": "stdout",
          "text": [
            "[2, 3, 8, 4, 6]\n"
          ]
        }
      ]
    },
    {
      "cell_type": "code",
      "source": [
        "num = [3, 6, 4, 1] \n",
        "for n1, n2 in enumerate(num): \n",
        "  print(n1 + n2) "
      ],
      "metadata": {
        "colab": {
          "base_uri": "https://localhost:8080/"
        },
        "id": "kZDxUBN4uyXZ",
        "outputId": "36f8c4ed-988b-41e8-dc42-10fd01343b8c"
      },
      "execution_count": null,
      "outputs": [
        {
          "output_type": "stream",
          "name": "stdout",
          "text": [
            "3\n",
            "7\n",
            "6\n",
            "4\n"
          ]
        }
      ]
    },
    {
      "cell_type": "code",
      "source": [
        "pontos=(1,2,5,4,9,6,5)\n",
        " print(sort(pontos))"
      ],
      "metadata": {
        "colab": {
          "base_uri": "https://localhost:8080/",
          "height": 130
        },
        "id": "0D0I5IDQvilI",
        "outputId": "18d4f173-4c06-436f-820c-4c6cda7d364b"
      },
      "execution_count": null,
      "outputs": [
        {
          "output_type": "error",
          "ename": "IndentationError",
          "evalue": "ignored",
          "traceback": [
            "\u001b[0;36m  File \u001b[0;32m\"<ipython-input-14-a862c859f3d7>\"\u001b[0;36m, line \u001b[0;32m2\u001b[0m\n\u001b[0;31m    print(sort(pontos))\u001b[0m\n\u001b[0m    ^\u001b[0m\n\u001b[0;31mIndentationError\u001b[0m\u001b[0;31m:\u001b[0m unexpected indent\n"
          ]
        }
      ]
    }
  ]
}