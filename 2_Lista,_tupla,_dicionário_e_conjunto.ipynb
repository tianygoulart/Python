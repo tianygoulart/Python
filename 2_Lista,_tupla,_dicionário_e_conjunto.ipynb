{
  "nbformat": 4,
  "nbformat_minor": 0,
  "metadata": {
    "colab": {
      "name": "2. Lista, tupla, dicionário e conjunto.ipynb",
      "provenance": [],
      "include_colab_link": true
    },
    "kernelspec": {
      "name": "python3",
      "display_name": "Python 3"
    },
    "language_info": {
      "name": "python"
    }
  },
  "cells": [
    {
      "cell_type": "markdown",
      "metadata": {
        "id": "view-in-github",
        "colab_type": "text"
      },
      "source": [
        "<a href=\"https://colab.research.google.com/github/tianygoulart/Python/blob/main/2_Lista%2C_tupla%2C_dicion%C3%A1rio_e_conjunto.ipynb\" target=\"_parent\"><img src=\"https://colab.research.google.com/assets/colab-badge.svg\" alt=\"Open In Colab\"/></a>"
      ]
    },
    {
      "cell_type": "markdown",
      "metadata": {
        "id": "6acr-lx_9LjD"
      },
      "source": [
        "# Tipos de armazenamento de valores:\n",
        "* Lista: armazena valores, aumentando ou diminuindo dinamicamente.\n",
        "* Tupla: compactam um número finito de valores e não mudam.\n",
        "* Dicionário: armazena valores por chaves.\n",
        "* Conjuntos: coleção de objetos."
      ]
    },
    {
      "cell_type": "markdown",
      "metadata": {
        "id": "AzBXWk0vFJGg"
      },
      "source": [
        "# Armazenamento: Lista [ ]\n",
        "Listas: conjunto de dados mutáveis (pode ter elementos alterados)\n"
      ]
    },
    {
      "cell_type": "code",
      "metadata": {
        "id": "95W-RBOEjr9_",
        "colab": {
          "base_uri": "https://localhost:8080/"
        },
        "outputId": "56ac275b-1a4e-43bd-e58f-a744429ed850"
      },
      "source": [
        "# Exibe a lista:\n",
        "\n",
        "lista = ['banana', 'amora', 'damasco', 'carambola']\n",
        "print(lista)"
      ],
      "execution_count": null,
      "outputs": [
        {
          "output_type": "stream",
          "name": "stdout",
          "text": [
            "['banana', 'amora', 'damasco', 'carambola']\n"
          ]
        }
      ]
    },
    {
      "cell_type": "code",
      "metadata": {
        "colab": {
          "base_uri": "https://localhost:8080/"
        },
        "id": "896o_EEizY1k",
        "outputId": "4f52554a-95c4-4ad0-9675-83115da4996e"
      },
      "source": [
        "type(lista)"
      ],
      "execution_count": null,
      "outputs": [
        {
          "output_type": "execute_result",
          "data": {
            "text/plain": [
              "list"
            ]
          },
          "metadata": {},
          "execution_count": 2
        }
      ]
    },
    {
      "cell_type": "code",
      "metadata": {
        "id": "KBBYYTRZCP5Q",
        "colab": {
          "base_uri": "https://localhost:8080/"
        },
        "outputId": "cc6e3c05-2461-4278-cced-498edd1327d4"
      },
      "source": [
        "# Ordena a lista:\n",
        "lista = ['banana', 'amora', 'damasco', 'carambola']\n",
        "\n",
        "lista.sort()\n",
        "\n",
        "print(lista)"
      ],
      "execution_count": null,
      "outputs": [
        {
          "output_type": "stream",
          "name": "stdout",
          "text": [
            "['amora', 'banana', 'carambola', 'damasco']\n"
          ]
        }
      ]
    },
    {
      "cell_type": "code",
      "metadata": {
        "id": "PTXjHUQ9CK1h",
        "colab": {
          "base_uri": "https://localhost:8080/"
        },
        "outputId": "0ba07b13-2454-4f0a-d9c2-0b200b512f96"
      },
      "source": [
        "# Exibe o conteúdo da lista em ordem inversa:\n",
        "lista = ['amora', 'banana', 'carambola', 'damasco']\n",
        "\n",
        "lista.reverse()\n",
        "\n",
        "print(lista)"
      ],
      "execution_count": null,
      "outputs": [
        {
          "output_type": "stream",
          "name": "stdout",
          "text": [
            "['damasco', 'carambola', 'banana', 'amora']\n"
          ]
        }
      ]
    },
    {
      "cell_type": "code",
      "metadata": {
        "id": "G0RJ2dPM-ah-",
        "colab": {
          "base_uri": "https://localhost:8080/"
        },
        "outputId": "37932552-c611-4f55-88e9-113bfd7f87e2"
      },
      "source": [
        "# Exibe o valor em uma determinada posição:\n",
        "\n",
        "lista = [\"amora\", \"banana\", \"carambola\"]\n",
        "print(lista[1])"
      ],
      "execution_count": null,
      "outputs": [
        {
          "output_type": "stream",
          "name": "stdout",
          "text": [
            "banana\n"
          ]
        }
      ]
    },
    {
      "cell_type": "code",
      "metadata": {
        "id": "xPJSsUtb-dMh",
        "colab": {
          "base_uri": "https://localhost:8080/"
        },
        "outputId": "bc96a286-b5ac-4aee-f52a-970e7b769ccd"
      },
      "source": [
        "# Exibe a posição de um determinado valor:\n",
        "\n",
        "lista = [\"amora\", \"banana\", \"carambola\"]\n",
        "print(lista.index(\"carambola\"))"
      ],
      "execution_count": null,
      "outputs": [
        {
          "output_type": "stream",
          "name": "stdout",
          "text": [
            "2\n"
          ]
        }
      ]
    },
    {
      "cell_type": "code",
      "metadata": {
        "id": "pFyH8zTlUR33",
        "colab": {
          "base_uri": "https://localhost:8080/"
        },
        "outputId": "527fe387-b75c-4f78-e659-937945f56b6d"
      },
      "source": [
        "# Exibe a quantidade de elementos da lista:\n",
        "lista = ['amora', 'banana', 'carambola', 'damasco']\n",
        "\n",
        "print(len(lista))"
      ],
      "execution_count": null,
      "outputs": [
        {
          "output_type": "stream",
          "name": "stdout",
          "text": [
            "4\n"
          ]
        }
      ]
    },
    {
      "cell_type": "code",
      "metadata": {
        "id": "tI1GNl0iBP6G",
        "colab": {
          "base_uri": "https://localhost:8080/"
        },
        "outputId": "1c0a9b25-bf69-4f0f-a1c2-668352bdfe96"
      },
      "source": [
        "# Exibe a quantidade de vezes que aparece um determinado valor:\n",
        "\n",
        "lista = ['uva', 'amora', 'uva', 'uva',  'banana', 'carambola', 'damasco']\n",
        "\n",
        "print(lista.count('uva'))"
      ],
      "execution_count": null,
      "outputs": [
        {
          "output_type": "stream",
          "name": "stdout",
          "text": [
            "3\n"
          ]
        }
      ]
    },
    {
      "cell_type": "code",
      "metadata": {
        "id": "ZlyzMj_sPLHU",
        "colab": {
          "base_uri": "https://localhost:8080/"
        },
        "outputId": "7740aae4-5bac-4611-b6fd-925111d06359"
      },
      "source": [
        "# Exibe um range da lista:\n",
        "a = ['amora', 'banana', 'carambola', 'damasco', 'espinafre', 'framboesa']\n",
        "\n",
        "print(a[0:4])"
      ],
      "execution_count": null,
      "outputs": [
        {
          "output_type": "stream",
          "name": "stdout",
          "text": [
            "['amora', 'banana', 'carambola', 'damasco']\n"
          ]
        }
      ]
    },
    {
      "cell_type": "code",
      "metadata": {
        "id": "QLLIFI_39fmh",
        "colab": {
          "base_uri": "https://localhost:8080/"
        },
        "outputId": "9812180d-8b1c-4686-a60e-e12fdb899482"
      },
      "source": [
        "# Exibe um range da lista, a cada 2 elementos\n",
        "a = ['amora', 'banana', 'carambola', 'damasco', 'espinafre', 'framboesa']\n",
        "\n",
        "print(a[0:5:2])"
      ],
      "execution_count": null,
      "outputs": [
        {
          "output_type": "stream",
          "name": "stdout",
          "text": [
            "['amora', 'carambola', 'espinafre']\n"
          ]
        }
      ]
    },
    {
      "cell_type": "code",
      "metadata": {
        "id": "qNKySP9TBU2E",
        "colab": {
          "base_uri": "https://localhost:8080/"
        },
        "outputId": "1279e82c-0360-4daf-d546-60531f59cb52"
      },
      "source": [
        "# Altera o elemento que está na posição 2:\n",
        "\n",
        "lista = ['amora', 'banana', 'carambola']\n",
        "lista[2] = 'castanha'\n",
        "print(lista)"
      ],
      "execution_count": null,
      "outputs": [
        {
          "output_type": "stream",
          "name": "stdout",
          "text": [
            "['amora', 'banana', 'castanha']\n"
          ]
        }
      ]
    },
    {
      "cell_type": "code",
      "metadata": {
        "id": "gEwEf-LDBEsW",
        "colab": {
          "base_uri": "https://localhost:8080/"
        },
        "outputId": "154b36f3-66d6-422f-df95-a2361578a935"
      },
      "source": [
        "# append: insere um item ao final da lista\n",
        "lista = ['amora', 'banana', 'carambola']\n",
        "lista.append('damasco') \n",
        "print(lista)"
      ],
      "execution_count": null,
      "outputs": [
        {
          "output_type": "stream",
          "name": "stdout",
          "text": [
            "['amora', 'banana', 'carambola', 'damasco']\n"
          ]
        }
      ]
    },
    {
      "cell_type": "code",
      "metadata": {
        "id": "ziARFKbvEbhZ",
        "colab": {
          "base_uri": "https://localhost:8080/"
        },
        "outputId": "ee7d95ba-2049-4f06-bcdc-b31a0a1be94f"
      },
      "source": [
        "# extend: mescla duas listas\n",
        "lista = ['amora', 'banana', 'carambola']\n",
        "lista.extend(['damasco', 'espinafre']) \n",
        "print(lista)"
      ],
      "execution_count": null,
      "outputs": [
        {
          "output_type": "stream",
          "name": "stdout",
          "text": [
            "['amora', 'banana', 'carambola', 'damasco', 'espinafre']\n"
          ]
        }
      ]
    },
    {
      "cell_type": "code",
      "metadata": {
        "id": "b2HF0pHPphqB",
        "colab": {
          "base_uri": "https://localhost:8080/"
        },
        "outputId": "22b32841-936d-4399-f026-85636a09cd14"
      },
      "source": [
        "# insert: insere um item em uma determinada posição\n",
        "lista = ['amora', 'banana', 'damasco',]\n",
        "lista.insert( 2, 'carambola')\n",
        "print(lista)"
      ],
      "execution_count": null,
      "outputs": [
        {
          "output_type": "stream",
          "name": "stdout",
          "text": [
            "['amora', 'banana', 'carambola', 'damasco']\n"
          ]
        }
      ]
    },
    {
      "cell_type": "code",
      "metadata": {
        "id": "gY9cBKEMP4jM",
        "colab": {
          "base_uri": "https://localhost:8080/"
        },
        "outputId": "13ad9ba9-80c6-4f64-cfb7-e6b8673b4a3c"
      },
      "source": [
        "# Remove um elemento pelo nome\n",
        "lista = ['amora', 'banana', 'carambola', 'damasco']\n",
        "lista.remove('amora')\n",
        "print(lista)"
      ],
      "execution_count": null,
      "outputs": [
        {
          "output_type": "stream",
          "name": "stdout",
          "text": [
            "['banana', 'carambola', 'damasco']\n"
          ]
        }
      ]
    },
    {
      "cell_type": "code",
      "metadata": {
        "id": "ciEXoVlOFSSV",
        "colab": {
          "base_uri": "https://localhost:8080/"
        },
        "outputId": "a6224b64-17d0-434b-a36c-3f9f2487f1ba"
      },
      "source": [
        "# Remove um elemento pela posição\n",
        "lista = ['amora', 'banana', 'carambola', 'damasco']\n",
        "\n",
        "del lista[0]\n",
        "\n",
        "print(lista)"
      ],
      "execution_count": null,
      "outputs": [
        {
          "output_type": "stream",
          "name": "stdout",
          "text": [
            "['banana', 'carambola', 'damasco']\n"
          ]
        }
      ]
    },
    {
      "cell_type": "code",
      "metadata": {
        "id": "bQgyd35lQ8vt",
        "colab": {
          "base_uri": "https://localhost:8080/"
        },
        "outputId": "d5462c99-97f0-403c-deec-f88f6eee38c2"
      },
      "source": [
        "# Remove um elemento pela posição \n",
        "lista = ['amora', 'banana', 'carambola', 'damasco']\n",
        "\n",
        "lista.pop(0)\n",
        "\n",
        "print(lista)"
      ],
      "execution_count": null,
      "outputs": [
        {
          "output_type": "stream",
          "name": "stdout",
          "text": [
            "['banana', 'carambola', 'damasco']\n"
          ]
        }
      ]
    },
    {
      "cell_type": "markdown",
      "metadata": {
        "id": "EOxT-cf8AnEz"
      },
      "source": [
        "# Armazenamento: Tupla ( )\n",
        "* Tuplas: conjunto de dados imutáveis (não pode ter elementos alterados) \n",
        "* (usado para estruturas que não devem ser modificadas)\n",
        "* Ex.: dias da semana ou datas de um calendário."
      ]
    },
    {
      "cell_type": "code",
      "metadata": {
        "id": "aOhRd9X8-5Q9",
        "colab": {
          "base_uri": "https://localhost:8080/"
        },
        "outputId": "40536205-3bec-426b-af09-af2b3c14e4fd"
      },
      "source": [
        "tupla = ('segunda', 'terça', 'quarta', 'quinta', 'sexta')\n",
        "\n",
        "print(tupla.index(\"sexta\"))"
      ],
      "execution_count": null,
      "outputs": [
        {
          "output_type": "stream",
          "name": "stdout",
          "text": [
            "4\n"
          ]
        }
      ]
    },
    {
      "cell_type": "code",
      "metadata": {
        "colab": {
          "base_uri": "https://localhost:8080/"
        },
        "id": "4vQ9Wwcn1ZO2",
        "outputId": "26dada23-3569-4880-ef53-6253e3f45629"
      },
      "source": [
        "type(tupla)"
      ],
      "execution_count": null,
      "outputs": [
        {
          "output_type": "execute_result",
          "data": {
            "text/plain": [
              "tuple"
            ]
          },
          "metadata": {},
          "execution_count": 20
        }
      ]
    },
    {
      "cell_type": "code",
      "metadata": {
        "id": "HfIlMHqRSsRm",
        "colab": {
          "base_uri": "https://localhost:8080/"
        },
        "outputId": "9e8a5228-d0a7-4bb8-b2ec-54f79864ab6c"
      },
      "source": [
        "tupla = ('segunda', 'terça', 'segunda', 'segunda', 'quarta', 'quinta', 'sexta')\n",
        "\n",
        "print(tupla.count(\"segunda\"))"
      ],
      "execution_count": null,
      "outputs": [
        {
          "output_type": "stream",
          "name": "stdout",
          "text": [
            "3\n"
          ]
        }
      ]
    },
    {
      "cell_type": "code",
      "metadata": {
        "id": "AjkMhXs_Yo0t",
        "colab": {
          "base_uri": "https://localhost:8080/"
        },
        "outputId": "6a09ab23-f247-4ba4-c90b-78180ff2b6d5"
      },
      "source": [
        "# Não posso alterar uma tupla, mas posso convertê-la em uma lista, alterá-la e\n",
        "# convertê-la a tupla novamente\n",
        "\n",
        "tupla = ('segunda', 'terça', 'quarta', 'quinta', 'sexta')\n",
        "lista = list(tupla)\n",
        "lista.extend(['sábado', 'domingo']) \n",
        "tupla = tuple(lista)\n",
        "print(tupla)"
      ],
      "execution_count": null,
      "outputs": [
        {
          "output_type": "stream",
          "name": "stdout",
          "text": [
            "('segunda', 'terça', 'quarta', 'quinta', 'sexta', 'sábado', 'domingo')\n"
          ]
        }
      ]
    },
    {
      "cell_type": "markdown",
      "metadata": {
        "id": "1mtOatSCL8r4"
      },
      "source": [
        "# Armazenamento: Dicionário { }\n",
        "* Dicionário é um mapa de associações  \n",
        "* dicionário = {\"chave\":valor}"
      ]
    },
    {
      "cell_type": "code",
      "metadata": {
        "id": "S6XEeP02MDMf",
        "colab": {
          "base_uri": "https://localhost:8080/"
        },
        "outputId": "022a8329-839b-4a04-e5f0-4aab8f465529"
      },
      "source": [
        "# Para imprimir o valor de uma unidade, execute:\n",
        "dicionario = {'Amanda': 18, 'Bruno': 22, 'Carlos': 19}\n",
        "print(dicionario['Amanda'])"
      ],
      "execution_count": null,
      "outputs": [
        {
          "output_type": "stream",
          "name": "stdout",
          "text": [
            "18\n"
          ]
        }
      ]
    },
    {
      "cell_type": "code",
      "metadata": {
        "id": "KwMpxK5d__2m",
        "colab": {
          "base_uri": "https://localhost:8080/"
        },
        "outputId": "6e3687b8-1cae-45f5-d36a-bb2e0972c3a1"
      },
      "source": [
        "# Exibe as chaves dos dicionários:\n",
        "dicionario = {'Amanda': 18, 'Bruno': 22, 'Carlos': 19}\n",
        "print(dicionario.keys())"
      ],
      "execution_count": null,
      "outputs": [
        {
          "output_type": "stream",
          "name": "stdout",
          "text": [
            "dict_keys(['Amanda', 'Bruno', 'Carlos'])\n"
          ]
        }
      ]
    },
    {
      "cell_type": "code",
      "metadata": {
        "id": "vRlhdGLmASUh",
        "colab": {
          "base_uri": "https://localhost:8080/"
        },
        "outputId": "a13c8854-c117-446e-c484-7482cdac3380"
      },
      "source": [
        "# Exibe os valores das chaves:\n",
        "dicionario = {'Amanda': 18, 'Bruno': 22, 'Carlos': 19}\n",
        "print(dicionario.values())"
      ],
      "execution_count": null,
      "outputs": [
        {
          "output_type": "stream",
          "name": "stdout",
          "text": [
            "dict_values([18, 22, 19])\n"
          ]
        }
      ]
    },
    {
      "cell_type": "code",
      "metadata": {
        "id": "jhAnLM16-np9",
        "colab": {
          "base_uri": "https://localhost:8080/"
        },
        "outputId": "d4be3c48-3f2c-414b-891c-1a992480a2b9"
      },
      "source": [
        "# Adiciona uma chave e valor ao final do dicionário\n",
        "dicionario = {'Amanda': 18, 'Bruno': 22, 'Carlos': 19}\n",
        "dicionario[\"Davi\"]= 23\n",
        "print(dicionario)"
      ],
      "execution_count": null,
      "outputs": [
        {
          "output_type": "stream",
          "name": "stdout",
          "text": [
            "{'Amanda': 18, 'Bruno': 22, 'Carlos': 19, 'Davi': 23}\n"
          ]
        }
      ]
    },
    {
      "cell_type": "code",
      "metadata": {
        "id": "ExFUn1iIAqhh",
        "colab": {
          "base_uri": "https://localhost:8080/"
        },
        "outputId": "7e2a48b2-f428-4b37-f83a-9a4ba523d139"
      },
      "source": [
        "# Une dicionários\n",
        "dicionario = {'Amanda': 18, 'Bruno': 22, 'Carlos': 19}\n",
        "dicionario2 = {'Davi': 23, 'Eduardo': 25}\n",
        "\n",
        "dicionario.update(dicionario2)\n",
        "print(dicionario)"
      ],
      "execution_count": null,
      "outputs": [
        {
          "output_type": "stream",
          "name": "stdout",
          "text": [
            "{'Amanda': 18, 'Bruno': 22, 'Carlos': 19, 'Davi': 23, 'Eduardo': 25}\n"
          ]
        }
      ]
    },
    {
      "cell_type": "code",
      "metadata": {
        "id": "VeTR3ZFm_WEb",
        "colab": {
          "base_uri": "https://localhost:8080/"
        },
        "outputId": "15399a3a-83fc-4dc8-863b-3f3685514b7d"
      },
      "source": [
        "# Remove a última chave e valor\n",
        "dicionario = {'Amanda': 18, 'Bruno': 22, 'Carlos': 19}\n",
        "dicionario.popitem()\n",
        "print(dicionario)"
      ],
      "execution_count": null,
      "outputs": [
        {
          "output_type": "stream",
          "name": "stdout",
          "text": [
            "{'Amanda': 18, 'Bruno': 22}\n"
          ]
        }
      ]
    },
    {
      "cell_type": "code",
      "metadata": {
        "id": "P6iwPk6x_iAN",
        "colab": {
          "base_uri": "https://localhost:8080/"
        },
        "outputId": "9a8948c5-ea60-4106-b8b2-203d6ba76486"
      },
      "source": [
        "# Remove uma chave e valor\n",
        "dicionario = {'Amanda': 18, 'Bruno': 22, 'Carlos': 19}\n",
        "dicionario.pop(\"Bruno\")\n",
        "print(dicionario)"
      ],
      "execution_count": null,
      "outputs": [
        {
          "output_type": "stream",
          "name": "stdout",
          "text": [
            "{'Amanda': 18, 'Carlos': 19}\n"
          ]
        }
      ]
    },
    {
      "cell_type": "code",
      "metadata": {
        "id": "g7E8m2Xg_nYQ",
        "colab": {
          "base_uri": "https://localhost:8080/"
        },
        "outputId": "af9f110c-0555-4a30-f197-5a641c6ba8f4"
      },
      "source": [
        "# Limpa o dicionário:\n",
        "dicionario = {'Amanda': 18, 'Bruno': 22, 'Carlos': 19}\n",
        "dicionario.clear()\n",
        "print(dicionario)"
      ],
      "execution_count": null,
      "outputs": [
        {
          "output_type": "stream",
          "name": "stdout",
          "text": [
            "{}\n"
          ]
        }
      ]
    },
    {
      "cell_type": "markdown",
      "metadata": {
        "id": "TQdp8Ayde0IE"
      },
      "source": [
        "# Armazenamento: Conjunto { }\n",
        "* Set são como os conjuntos da matemática\n",
        "* Não possui ordenação nem índice\n",
        "* Não permitem valores duplicados"
      ]
    },
    {
      "cell_type": "code",
      "metadata": {
        "colab": {
          "base_uri": "https://localhost:8080/"
        },
        "id": "WvVe4NEufssQ",
        "outputId": "94152b34-2175-44d7-a59f-82eba7fabbd0"
      },
      "source": [
        "# Definindo um conjunto\n",
        "conjunto = set(['lápis', 'borracha', 'caneta', 'lápis'])\n",
        "print(conjunto)"
      ],
      "execution_count": null,
      "outputs": [
        {
          "output_type": "stream",
          "name": "stdout",
          "text": [
            "{'borracha', 'caneta', 'lápis'}\n"
          ]
        }
      ]
    },
    {
      "cell_type": "code",
      "metadata": {
        "id": "ojDIebLQf2yc"
      },
      "source": [
        "# Observe que não possui indexação:\n",
        "conjunto[0]"
      ],
      "execution_count": null,
      "outputs": []
    },
    {
      "cell_type": "code",
      "metadata": {
        "colab": {
          "base_uri": "https://localhost:8080/"
        },
        "id": "mTl_Ctn3gvIG",
        "outputId": "4461102a-2527-4399-bce9-c7f79434feac"
      },
      "source": [
        "# Se eu tentar adicionar um elemento que já existe, não há alteração:\n",
        "conjunto.add('borracha')\n",
        "print(conjunto)"
      ],
      "execution_count": null,
      "outputs": [
        {
          "output_type": "stream",
          "name": "stdout",
          "text": [
            "{'borracha', 'caneta', 'lápis'}\n"
          ]
        }
      ]
    },
    {
      "cell_type": "code",
      "metadata": {
        "colab": {
          "base_uri": "https://localhost:8080/"
        },
        "id": "9r0BoTL9huij",
        "outputId": "c9a493e3-573d-44f0-f066-cfa197f71e39"
      },
      "source": [
        "type(conjunto)"
      ],
      "execution_count": null,
      "outputs": [
        {
          "output_type": "execute_result",
          "data": {
            "text/plain": [
              "set"
            ]
          },
          "metadata": {},
          "execution_count": 36
        }
      ]
    }
  ]
}