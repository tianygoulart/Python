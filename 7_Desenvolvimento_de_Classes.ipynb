{
  "nbformat": 4,
  "nbformat_minor": 0,
  "metadata": {
    "colab": {
      "name": "7. Desenvolvimento de Classes.ipynb",
      "provenance": [],
      "collapsed_sections": [],
      "toc_visible": true,
      "include_colab_link": true
    },
    "kernelspec": {
      "name": "python3",
      "display_name": "Python 3"
    },
    "language_info": {
      "name": "python"
    }
  },
  "cells": [
    {
      "cell_type": "markdown",
      "metadata": {
        "id": "view-in-github",
        "colab_type": "text"
      },
      "source": [
        "<a href=\"https://colab.research.google.com/github/tianygoulart/Python/blob/main/7_Desenvolvimento_de_Classes.ipynb\" target=\"_parent\"><img src=\"https://colab.research.google.com/assets/colab-badge.svg\" alt=\"Open In Colab\"/></a>"
      ]
    },
    {
      "cell_type": "markdown",
      "metadata": {
        "id": "ppZ_8uDWyS56"
      },
      "source": [
        "# Desenvolvimento de Classes\n",
        "\n",
        "**Classes**: modela entidades que tenham propriedades similares. Representa conceitos!\n",
        "\n",
        "**Atributos**: são as variáveis dentro das classes. Representa estados!\n",
        "\n",
        "**Métodos**: são funções dentro de classes. Representa comportamentos!\n",
        "\n",
        "\n",
        "\n",
        "\n",
        "Obs.: Qnd se instancia uma classe por meio de um objeto os \"métodos\" são compartilhados com todos os objetos criados a partir da mesma classe. Mas os \"atributos\" não são compartilhados com os outros objetos criados a partir da mesma classe."
      ]
    },
    {
      "cell_type": "markdown",
      "metadata": {
        "id": "hHzvXUrYOmXF"
      },
      "source": [
        "# Aplicativo de compartilhamento de status em redes sociais\n",
        "\n",
        "Objetivo: desenvolver em Python o Diagrama de Classes estudado."
      ]
    },
    {
      "cell_type": "markdown",
      "metadata": {
        "id": "BxPeQHBNCxUo"
      },
      "source": [
        "## Classe Pessoa"
      ]
    },
    {
      "cell_type": "code",
      "metadata": {
        "id": "zIylrB7gOorF"
      },
      "source": [
        "# Criação da classe Pessoa\n",
        "class Pessoa:\n",
        "    '''Classe para gerar o status de uma pessoa'''\n",
        "    def __init__(self, nome, idade):                                             #construtor usado para instanciar a classe\n",
        "        self.nome = nome\n",
        "        self.idade = idade\n",
        "\n",
        "    def Estuda(self):\n",
        "        print(self.nome + \" está estudando...\")\n",
        "\n",
        "    def Anda(self, destino):                                \n",
        "        print(self.nome + \" está andando até \" + destino)"
      ],
      "execution_count": null,
      "outputs": []
    },
    {
      "cell_type": "code",
      "metadata": {
        "id": "cEd28i7c1n6F"
      },
      "source": [
        "# Definição de uma instância:\n",
        "pedro = Pessoa('Pedro', 18)\n",
        "# Testando a instância acessando o atributo:\n",
        "print(pedro.idade)\n",
        "# Testando a instância chamando o método:\n",
        "pedro.Estuda()"
      ],
      "execution_count": null,
      "outputs": []
    },
    {
      "cell_type": "code",
      "metadata": {
        "id": "f2ec6z9l2yQg"
      },
      "source": [
        "# Testando a instância chamando o método e passando um argumento:\n",
        "pedro.Anda(\"Praia de Ipanema\")"
      ],
      "execution_count": null,
      "outputs": []
    },
    {
      "cell_type": "markdown",
      "metadata": {
        "id": "XHkJHxtHDS0u"
      },
      "source": [
        "## Classe Localidade"
      ]
    },
    {
      "cell_type": "code",
      "metadata": {
        "id": "GX2T4wmE0rhv"
      },
      "source": [
        "# Criação da classe Localidade:\n",
        "class Localidade:\n",
        "    '''Classe para identificar a Localidade'''\n",
        "    def __init__(self, lugar, latitude, longitude, temperatura):\n",
        "        self.lugar = lugar\n",
        "        self.latitude = latitude\n",
        "        self.longitude = longitude\n",
        "        self.temperatura = temperatura"
      ],
      "execution_count": null,
      "outputs": []
    },
    {
      "cell_type": "code",
      "metadata": {
        "id": "bEF93XyCRbT1"
      },
      "source": [
        "# Definição de uma instância:\n",
        "praia = Localidade('Praia de Ipanema', '-22.9836210655', '-43.2027158558', 42.8)\n",
        "# Testando a instância acessando o atributo:\n",
        "print(praia.lugar)"
      ],
      "execution_count": null,
      "outputs": []
    },
    {
      "cell_type": "markdown",
      "metadata": {
        "id": "XadryR1EDWYh"
      },
      "source": [
        "## Teste de uma classe chamando a outra"
      ]
    },
    {
      "cell_type": "code",
      "metadata": {
        "id": "kZkbhR4iAK76"
      },
      "source": [
        "# Testando a instância chamando o método e passando argumentos da outra classe:\n",
        "pedro.Anda(praia.lugar)"
      ],
      "execution_count": null,
      "outputs": []
    },
    {
      "cell_type": "markdown",
      "metadata": {
        "id": "0tqnSQHF1YlJ"
      },
      "source": [
        "## Revisão"
      ]
    },
    {
      "cell_type": "code",
      "metadata": {
        "id": "CnIcg9BB1arO"
      },
      "source": [
        "# Criação da classe Pessoa\n",
        "class Pessoa:\n",
        "    '''Classe Pessoa'''\n",
        "    def __init__(self, nome, idade):                                             #construtor usado para instanciar a classe\n",
        "        self.nome = nome\n",
        "        self.idade = idade\n",
        "\n",
        "    def Estuda(self):\n",
        "        print(self.nome + \" está estudando...\")\n",
        "\n",
        "    def Anda(self, destino):                                \n",
        "        print(self.nome + \" está andando até \" + destino)"
      ],
      "execution_count": null,
      "outputs": []
    },
    {
      "cell_type": "code",
      "metadata": {
        "id": "8RH9umUV1cMr"
      },
      "source": [
        "# Criação da classe Localidade:\n",
        "class Localidade:\n",
        "    '''Classe Localidade'''\n",
        "    def __init__(self, lugar, latitude, longitude, temperatura):\n",
        "        self.lugar = lugar\n",
        "        self.latitude = latitude\n",
        "        self.longitude = longitude\n",
        "        self.temperatura = temperatura"
      ],
      "execution_count": null,
      "outputs": []
    },
    {
      "cell_type": "code",
      "metadata": {
        "id": "iJCV6hLnIRGZ"
      },
      "source": [
        "# Definição de uma instância:\n",
        "pedro = Pessoa('Pedro', 18)\n",
        "# Definição de uma instância:\n",
        "praia = Localidade('Praia de Ipanema', '-22.9836210655', '-43.2027158558', 42.8)"
      ],
      "execution_count": null,
      "outputs": []
    },
    {
      "cell_type": "code",
      "metadata": {
        "colab": {
          "base_uri": "https://localhost:8080/"
        },
        "id": "RFMELatj14_6",
        "outputId": "bd69ce79-3e1e-44ef-a88d-878256789a0c"
      },
      "source": [
        "# Testando a instância chamando o método e passando argumentos da outra classe:\n",
        "pedro.Anda(praia.lugar)"
      ],
      "execution_count": null,
      "outputs": [
        {
          "output_type": "stream",
          "text": [
            "Pedro está andando até Praia de Ipanema\n"
          ],
          "name": "stdout"
        }
      ]
    },
    {
      "cell_type": "markdown",
      "metadata": {
        "id": "lASU0rNx9_Tn"
      },
      "source": [
        "# Exemplo de herança (Novo)"
      ]
    },
    {
      "cell_type": "code",
      "metadata": {
        "id": "XbJv9lXl-C8C"
      },
      "source": [
        "# Criação da classe \"Pessoa\"\n",
        "class Pessoa:\n",
        "    def __init__(self, nome, idade):    # defini-se um construtor\n",
        "        self.nome = nome\n",
        "        self.idade = idade\n",
        "\n",
        "    def setNome(self, nome):            # defini-se um método\n",
        "        self.nome = nome\n",
        "\n",
        "    def setIdade(self, idade):\n",
        "        self.idade = idade\n",
        "\n",
        "    def getNome(self):\n",
        "        return self.nome\n",
        "\n",
        "    def getIdade(self):\n",
        "        return self.idade"
      ],
      "execution_count": null,
      "outputs": []
    },
    {
      "cell_type": "code",
      "metadata": {
        "colab": {
          "base_uri": "https://localhost:8080/",
          "height": 35
        },
        "id": "ob4jZ-48p3_g",
        "outputId": "00e978d3-746a-4721-9da6-99ca742a14d9"
      },
      "source": [
        "# Definição de uma instância de Pessoa:\n",
        "instancia0 = Pessoa(nome ='Pedro', idade=28)\n",
        "# Testando a instância chamando um método:\n",
        "instancia0.getNome()"
      ],
      "execution_count": null,
      "outputs": [
        {
          "output_type": "execute_result",
          "data": {
            "application/vnd.google.colaboratory.intrinsic+json": {
              "type": "string"
            },
            "text/plain": [
              "'Pedro'"
            ]
          },
          "metadata": {
            "tags": []
          },
          "execution_count": 16
        }
      ]
    },
    {
      "cell_type": "code",
      "metadata": {
        "id": "j9RV71OwZWKl"
      },
      "source": [
        "# Criação da classe \"Pessoa Física\" herdando da classe \"Pessoa\"\n",
        "class PessoaFisica(Pessoa):\n",
        "    def __init__(self, CPF, nome, idade):\n",
        "        super().__init__(nome, idade)\n",
        "        self.CPF = CPF\n",
        "\n",
        "    def getCPF(self):\n",
        "        return self.CPF\n",
        "\n",
        "    def setCPF(self, CPF):\n",
        "        self.CPF = CPF\n",
        "# Observe que a classe \"PessoaFisica\" não possui \"nome\" nem \"idade\",\n",
        "# mas ela herda esses atributos da classe \"Pessoa\""
      ],
      "execution_count": null,
      "outputs": []
    },
    {
      "cell_type": "code",
      "metadata": {
        "colab": {
          "base_uri": "https://localhost:8080/"
        },
        "id": "kpdniqesrA8b",
        "outputId": "7509093e-2ff2-4e6e-f879-8fa8de6091aa"
      },
      "source": [
        "# Definição de uma instância de Pessoa Física:\n",
        "instancia1 = PessoaFisica('000.111.222-01', 'Rafael', 39)\n",
        "# Testando a instância chamando um método:\n",
        "print(instancia1.getCPF())\n",
        "print(instancia1.getNome())\n",
        "print(instancia1.getIdade())"
      ],
      "execution_count": null,
      "outputs": [
        {
          "output_type": "stream",
          "text": [
            "000.111.222-01\n",
            "Rafael\n",
            "39\n"
          ],
          "name": "stdout"
        }
      ]
    },
    {
      "cell_type": "code",
      "metadata": {
        "id": "_ZyeADIMbaLb"
      },
      "source": [
        "# Criação da classe \"Pessoa Jurídica\" herdando da classe \"Pessoa\"\n",
        "class PessoaJuridica(Pessoa):\n",
        "    def __init__(self, CNPJ, nome, idade):\n",
        "        super().__init__(nome, idade)\n",
        "        self.CNPJ = CNPJ\n",
        "\n",
        "    def getCNPJ(self):\n",
        "        return self.CNPJ\n",
        "\n",
        "    def setCNPJ(self, CNPJ):\n",
        "        self.CNPJ = CNPJ\n",
        "# Observe que a classe \"PessoaJuridica\" não possui \"nome\" nem \"idade\",\n",
        "# mas ela herda esses atributos da classe \"Pessoa\""
      ],
      "execution_count": null,
      "outputs": []
    },
    {
      "cell_type": "code",
      "metadata": {
        "colab": {
          "base_uri": "https://localhost:8080/"
        },
        "id": "JV4CDM9eeAaW",
        "outputId": "47917b02-1318-4e32-8c2b-a933a6a72cd3"
      },
      "source": [
        "# Definindo uma instância de Pessoa Jurídica\n",
        "instancia2 = PessoaJuridica('00.111.222/0001-01', nome ='Empresa X', idade=10)\n",
        "# Testando a instância chamando um método:\n",
        "print(instancia2.getCNPJ())\n",
        "print(instancia2.getNome())\n",
        "print(instancia2.getIdade())"
      ],
      "execution_count": null,
      "outputs": [
        {
          "output_type": "stream",
          "text": [
            "00.111.222/0001-01\n",
            "Empresa X\n",
            "10\n"
          ],
          "name": "stdout"
        }
      ]
    }
  ]
}