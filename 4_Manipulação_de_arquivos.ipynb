{
  "nbformat": 4,
  "nbformat_minor": 0,
  "metadata": {
    "colab": {
      "name": "4. Manipulação de arquivos.ipynb",
      "provenance": [],
      "include_colab_link": true
    },
    "kernelspec": {
      "name": "python3",
      "display_name": "Python 3"
    },
    "language_info": {
      "name": "python"
    }
  },
  "cells": [
    {
      "cell_type": "markdown",
      "metadata": {
        "id": "view-in-github",
        "colab_type": "text"
      },
      "source": [
        "<a href=\"https://colab.research.google.com/github/tianygoulart/Python/blob/main/4_Manipula%C3%A7%C3%A3o_de_arquivos.ipynb\" target=\"_parent\"><img src=\"https://colab.research.google.com/assets/colab-badge.svg\" alt=\"Open In Colab\"/></a>"
      ]
    },
    {
      "cell_type": "markdown",
      "metadata": {
        "id": "KXWqEZxb7pae"
      },
      "source": [
        "# Manipulação de arquivos\n",
        "\n"
      ]
    },
    {
      "cell_type": "markdown",
      "metadata": {
        "id": "FVO9SzB0JjBc"
      },
      "source": [
        "Os objetos \"file\" contém métodos e atributos úteis para manipular arquivos de texto.\n",
        "\n",
        "Sintaxe: manipulador = open(arquivo, modo)"
      ]
    },
    {
      "cell_type": "markdown",
      "metadata": {
        "id": "kvMXG7RlKYrw"
      },
      "source": [
        "Modo:\n",
        "* w: escrita\n",
        "* r: leitura\n",
        "* a: adição"
      ]
    },
    {
      "cell_type": "code",
      "metadata": {
        "id": "uiBBjfb-A54y"
      },
      "source": [
        "# Criar o arquivo\n",
        "escrita = open(\"arquivo.txt\", \"w\")\n",
        "escrita.write(\"Este é o conteúdo do arquivo\")\n",
        "escrita.close()"
      ],
      "execution_count": null,
      "outputs": []
    },
    {
      "cell_type": "markdown",
      "metadata": {
        "id": "lRppIVX_JktA"
      },
      "source": [
        "Métodos de leitura:\n",
        "* read():      Lê o arquivo inteiro\n",
        "* readline():  Lê uma linha\n",
        "* readlines(): Lê o arquivo e o armazena em uma lista"
      ]
    },
    {
      "cell_type": "code",
      "metadata": {
        "colab": {
          "base_uri": "https://localhost:8080/"
        },
        "id": "JQMaQQ2wGJc1",
        "outputId": "e7ee69d2-dcac-4393-e0f7-88620a942189"
      },
      "source": [
        "# Ler o arquivo\n",
        "escrita = open(\"arquivo.txt\", \"r\")\n",
        "escritaCompleta = escrita.read()\n",
        "print(escritaCompleta)"
      ],
      "execution_count": null,
      "outputs": [
        {
          "output_type": "stream",
          "name": "stdout",
          "text": [
            "Este é o conteúdo do arquivo\n"
          ]
        }
      ]
    }
  ]
}